{
 "cells": [
  {
   "cell_type": "markdown",
   "id": "369679e9",
   "metadata": {},
   "source": [
    "### Importing Required Libraries"
   ]
  },
  {
   "cell_type": "code",
   "execution_count": 4,
   "id": "cd17f2b6",
   "metadata": {},
   "outputs": [],
   "source": [
    "import numpy as np\n",
    "import pandas as pd\n",
    "\n",
    "import matplotlib.pyplot as plt\n",
    "import seaborn as sns\n",
    "\n",
    "from sklearn.model_selection import train_test_split\n",
    "from sklearn.linear_model import LogisticRegression\n",
    "\n",
    "from sklearn.metrics import confusion_matrix, plot_confusion_matrix, classification_report\n",
    "from sklearn.metrics import precision_score, recall_score, f1_score, accuracy_score\n",
    "from sklearn.metrics import roc_auc_score, roc_curve, precision_recall_curve\n",
    "from statsmodels.stats.outliers_influence import variance_inflation_factor\n",
    "\n",
    "import warnings\n",
    "warnings.filterwarnings('ignore')"
   ]
  },
  {
   "cell_type": "markdown",
   "id": "e63dd165",
   "metadata": {},
   "source": [
    "### 1. Problem Statement"
   ]
  },
  {
   "cell_type": "markdown",
   "id": "629adf49",
   "metadata": {},
   "source": [
    "To predict whether the patient has 10-year risk of future coronary heart disease (CHD)"
   ]
  },
  {
   "cell_type": "code",
   "execution_count": null,
   "id": "f6695a3c",
   "metadata": {},
   "outputs": [],
   "source": [
    "The dataset provides the patients’ information. It includes over 4,000 records and 15 attributes.\n",
    "Variables\n",
    "Each attribute is a potential risk factor. There are both demographic, behavioral and medical risk factors.\n",
    "\n",
    "Features:\n",
    "\n",
    "    1).Demographic >>\n",
    "\n",
    "    • Sex: male or female(Nominal)\n",
    "    • Age: Age of the patient\n",
    "\n",
    "    2).Behavioral>>\n",
    "\n",
    "    • Current Smoker: whether or not the patient is a current smoker (Nominal)\n",
    "    • Cigs Per Day: the number of cigarettes that the person smoked on average in one day.\n",
    "\n",
    "    3).Medical( history)>>\n",
    "\n",
    "    • BP Meds: whether or not the patient was on blood pressure medication (Nominal)\n",
    "    • Prevalent Stroke: whether or not the patient had previously had a stroke (Nominal)\n",
    "    • Prevalent Hyp: whether or not the patient was hypertensive (Nominal)\n",
    "    • Diabetes: whether or not the patient had diabetes (Nominal)\n",
    "\n",
    "    4).Medical(current)>>\n",
    "\n",
    "    • Tot Chol: total cholesterol level (Continuous)\n",
    "    • Sys BP: systolic blood pressure (Continuous)\n",
    "    • Dia BP: diastolic blood pressure (Continuous)\n",
    "    • BMI: Body Mass Index (Continuous)\n",
    "    • Heart Rate: heart rate (Continuous)\n",
    "    • Glucose: glucose level (Continuous)\n",
    "    \n",
    "    \n",
    "Target>>\n",
    "\n",
    "• 10 year risk of coronary heart disease CHD (binary: “1”, means “Yes”, “0” means “No”)"
   ]
  },
  {
   "cell_type": "markdown",
   "id": "79e2b5b5",
   "metadata": {},
   "source": [
    "### 2. Data Gathering"
   ]
  },
  {
   "cell_type": "code",
   "execution_count": 9,
   "id": "48e6e577",
   "metadata": {},
   "outputs": [
    {
     "data": {
      "text/html": [
       "<div>\n",
       "<style scoped>\n",
       "    .dataframe tbody tr th:only-of-type {\n",
       "        vertical-align: middle;\n",
       "    }\n",
       "\n",
       "    .dataframe tbody tr th {\n",
       "        vertical-align: top;\n",
       "    }\n",
       "\n",
       "    .dataframe thead th {\n",
       "        text-align: right;\n",
       "    }\n",
       "</style>\n",
       "<table border=\"1\" class=\"dataframe\">\n",
       "  <thead>\n",
       "    <tr style=\"text-align: right;\">\n",
       "      <th></th>\n",
       "      <th>male</th>\n",
       "      <th>age</th>\n",
       "      <th>education</th>\n",
       "      <th>currentSmoker</th>\n",
       "      <th>cigsPerDay</th>\n",
       "      <th>BPMeds</th>\n",
       "      <th>prevalentStroke</th>\n",
       "      <th>prevalentHyp</th>\n",
       "      <th>diabetes</th>\n",
       "      <th>totChol</th>\n",
       "      <th>sysBP</th>\n",
       "      <th>diaBP</th>\n",
       "      <th>BMI</th>\n",
       "      <th>heartRate</th>\n",
       "      <th>glucose</th>\n",
       "      <th>TenYearCHD</th>\n",
       "    </tr>\n",
       "  </thead>\n",
       "  <tbody>\n",
       "    <tr>\n",
       "      <th>0</th>\n",
       "      <td>1</td>\n",
       "      <td>39</td>\n",
       "      <td>4.0</td>\n",
       "      <td>0</td>\n",
       "      <td>0.0</td>\n",
       "      <td>0.0</td>\n",
       "      <td>0</td>\n",
       "      <td>0</td>\n",
       "      <td>0</td>\n",
       "      <td>195.0</td>\n",
       "      <td>106.0</td>\n",
       "      <td>70.0</td>\n",
       "      <td>26.97</td>\n",
       "      <td>80.0</td>\n",
       "      <td>77.0</td>\n",
       "      <td>0</td>\n",
       "    </tr>\n",
       "    <tr>\n",
       "      <th>1</th>\n",
       "      <td>0</td>\n",
       "      <td>46</td>\n",
       "      <td>2.0</td>\n",
       "      <td>0</td>\n",
       "      <td>0.0</td>\n",
       "      <td>0.0</td>\n",
       "      <td>0</td>\n",
       "      <td>0</td>\n",
       "      <td>0</td>\n",
       "      <td>250.0</td>\n",
       "      <td>121.0</td>\n",
       "      <td>81.0</td>\n",
       "      <td>28.73</td>\n",
       "      <td>95.0</td>\n",
       "      <td>76.0</td>\n",
       "      <td>0</td>\n",
       "    </tr>\n",
       "    <tr>\n",
       "      <th>2</th>\n",
       "      <td>1</td>\n",
       "      <td>48</td>\n",
       "      <td>1.0</td>\n",
       "      <td>1</td>\n",
       "      <td>20.0</td>\n",
       "      <td>0.0</td>\n",
       "      <td>0</td>\n",
       "      <td>0</td>\n",
       "      <td>0</td>\n",
       "      <td>245.0</td>\n",
       "      <td>127.5</td>\n",
       "      <td>80.0</td>\n",
       "      <td>25.34</td>\n",
       "      <td>75.0</td>\n",
       "      <td>70.0</td>\n",
       "      <td>0</td>\n",
       "    </tr>\n",
       "    <tr>\n",
       "      <th>3</th>\n",
       "      <td>0</td>\n",
       "      <td>61</td>\n",
       "      <td>3.0</td>\n",
       "      <td>1</td>\n",
       "      <td>30.0</td>\n",
       "      <td>0.0</td>\n",
       "      <td>0</td>\n",
       "      <td>1</td>\n",
       "      <td>0</td>\n",
       "      <td>225.0</td>\n",
       "      <td>150.0</td>\n",
       "      <td>95.0</td>\n",
       "      <td>28.58</td>\n",
       "      <td>65.0</td>\n",
       "      <td>103.0</td>\n",
       "      <td>1</td>\n",
       "    </tr>\n",
       "    <tr>\n",
       "      <th>4</th>\n",
       "      <td>0</td>\n",
       "      <td>46</td>\n",
       "      <td>3.0</td>\n",
       "      <td>1</td>\n",
       "      <td>23.0</td>\n",
       "      <td>0.0</td>\n",
       "      <td>0</td>\n",
       "      <td>0</td>\n",
       "      <td>0</td>\n",
       "      <td>285.0</td>\n",
       "      <td>130.0</td>\n",
       "      <td>84.0</td>\n",
       "      <td>23.10</td>\n",
       "      <td>85.0</td>\n",
       "      <td>85.0</td>\n",
       "      <td>0</td>\n",
       "    </tr>\n",
       "    <tr>\n",
       "      <th>...</th>\n",
       "      <td>...</td>\n",
       "      <td>...</td>\n",
       "      <td>...</td>\n",
       "      <td>...</td>\n",
       "      <td>...</td>\n",
       "      <td>...</td>\n",
       "      <td>...</td>\n",
       "      <td>...</td>\n",
       "      <td>...</td>\n",
       "      <td>...</td>\n",
       "      <td>...</td>\n",
       "      <td>...</td>\n",
       "      <td>...</td>\n",
       "      <td>...</td>\n",
       "      <td>...</td>\n",
       "      <td>...</td>\n",
       "    </tr>\n",
       "    <tr>\n",
       "      <th>4233</th>\n",
       "      <td>1</td>\n",
       "      <td>50</td>\n",
       "      <td>1.0</td>\n",
       "      <td>1</td>\n",
       "      <td>1.0</td>\n",
       "      <td>0.0</td>\n",
       "      <td>0</td>\n",
       "      <td>1</td>\n",
       "      <td>0</td>\n",
       "      <td>313.0</td>\n",
       "      <td>179.0</td>\n",
       "      <td>92.0</td>\n",
       "      <td>25.97</td>\n",
       "      <td>66.0</td>\n",
       "      <td>86.0</td>\n",
       "      <td>1</td>\n",
       "    </tr>\n",
       "    <tr>\n",
       "      <th>4234</th>\n",
       "      <td>1</td>\n",
       "      <td>51</td>\n",
       "      <td>3.0</td>\n",
       "      <td>1</td>\n",
       "      <td>43.0</td>\n",
       "      <td>0.0</td>\n",
       "      <td>0</td>\n",
       "      <td>0</td>\n",
       "      <td>0</td>\n",
       "      <td>207.0</td>\n",
       "      <td>126.5</td>\n",
       "      <td>80.0</td>\n",
       "      <td>19.71</td>\n",
       "      <td>65.0</td>\n",
       "      <td>68.0</td>\n",
       "      <td>0</td>\n",
       "    </tr>\n",
       "    <tr>\n",
       "      <th>4235</th>\n",
       "      <td>0</td>\n",
       "      <td>48</td>\n",
       "      <td>2.0</td>\n",
       "      <td>1</td>\n",
       "      <td>20.0</td>\n",
       "      <td>NaN</td>\n",
       "      <td>0</td>\n",
       "      <td>0</td>\n",
       "      <td>0</td>\n",
       "      <td>248.0</td>\n",
       "      <td>131.0</td>\n",
       "      <td>72.0</td>\n",
       "      <td>22.00</td>\n",
       "      <td>84.0</td>\n",
       "      <td>86.0</td>\n",
       "      <td>0</td>\n",
       "    </tr>\n",
       "    <tr>\n",
       "      <th>4236</th>\n",
       "      <td>0</td>\n",
       "      <td>44</td>\n",
       "      <td>1.0</td>\n",
       "      <td>1</td>\n",
       "      <td>15.0</td>\n",
       "      <td>0.0</td>\n",
       "      <td>0</td>\n",
       "      <td>0</td>\n",
       "      <td>0</td>\n",
       "      <td>210.0</td>\n",
       "      <td>126.5</td>\n",
       "      <td>87.0</td>\n",
       "      <td>19.16</td>\n",
       "      <td>86.0</td>\n",
       "      <td>NaN</td>\n",
       "      <td>0</td>\n",
       "    </tr>\n",
       "    <tr>\n",
       "      <th>4237</th>\n",
       "      <td>0</td>\n",
       "      <td>52</td>\n",
       "      <td>2.0</td>\n",
       "      <td>0</td>\n",
       "      <td>0.0</td>\n",
       "      <td>0.0</td>\n",
       "      <td>0</td>\n",
       "      <td>0</td>\n",
       "      <td>0</td>\n",
       "      <td>269.0</td>\n",
       "      <td>133.5</td>\n",
       "      <td>83.0</td>\n",
       "      <td>21.47</td>\n",
       "      <td>80.0</td>\n",
       "      <td>107.0</td>\n",
       "      <td>0</td>\n",
       "    </tr>\n",
       "  </tbody>\n",
       "</table>\n",
       "<p>4238 rows × 16 columns</p>\n",
       "</div>"
      ],
      "text/plain": [
       "      male  age  education  currentSmoker  cigsPerDay  BPMeds  \\\n",
       "0        1   39        4.0              0         0.0     0.0   \n",
       "1        0   46        2.0              0         0.0     0.0   \n",
       "2        1   48        1.0              1        20.0     0.0   \n",
       "3        0   61        3.0              1        30.0     0.0   \n",
       "4        0   46        3.0              1        23.0     0.0   \n",
       "...    ...  ...        ...            ...         ...     ...   \n",
       "4233     1   50        1.0              1         1.0     0.0   \n",
       "4234     1   51        3.0              1        43.0     0.0   \n",
       "4235     0   48        2.0              1        20.0     NaN   \n",
       "4236     0   44        1.0              1        15.0     0.0   \n",
       "4237     0   52        2.0              0         0.0     0.0   \n",
       "\n",
       "      prevalentStroke  prevalentHyp  diabetes  totChol  sysBP  diaBP    BMI  \\\n",
       "0                   0             0         0    195.0  106.0   70.0  26.97   \n",
       "1                   0             0         0    250.0  121.0   81.0  28.73   \n",
       "2                   0             0         0    245.0  127.5   80.0  25.34   \n",
       "3                   0             1         0    225.0  150.0   95.0  28.58   \n",
       "4                   0             0         0    285.0  130.0   84.0  23.10   \n",
       "...               ...           ...       ...      ...    ...    ...    ...   \n",
       "4233                0             1         0    313.0  179.0   92.0  25.97   \n",
       "4234                0             0         0    207.0  126.5   80.0  19.71   \n",
       "4235                0             0         0    248.0  131.0   72.0  22.00   \n",
       "4236                0             0         0    210.0  126.5   87.0  19.16   \n",
       "4237                0             0         0    269.0  133.5   83.0  21.47   \n",
       "\n",
       "      heartRate  glucose  TenYearCHD  \n",
       "0          80.0     77.0           0  \n",
       "1          95.0     76.0           0  \n",
       "2          75.0     70.0           0  \n",
       "3          65.0    103.0           1  \n",
       "4          85.0     85.0           0  \n",
       "...         ...      ...         ...  \n",
       "4233       66.0     86.0           1  \n",
       "4234       65.0     68.0           0  \n",
       "4235       84.0     86.0           0  \n",
       "4236       86.0      NaN           0  \n",
       "4237       80.0    107.0           0  \n",
       "\n",
       "[4238 rows x 16 columns]"
      ]
     },
     "execution_count": 9,
     "metadata": {},
     "output_type": "execute_result"
    }
   ],
   "source": [
    "df_CHD = pd.read_csv('framingham1.csv')\n",
    "df_CHD"
   ]
  },
  {
   "cell_type": "code",
   "execution_count": 10,
   "id": "17aa9b67",
   "metadata": {},
   "outputs": [
    {
     "name": "stdout",
     "output_type": "stream",
     "text": [
      "<class 'pandas.core.frame.DataFrame'>\n",
      "RangeIndex: 4238 entries, 0 to 4237\n",
      "Data columns (total 16 columns):\n",
      " #   Column           Non-Null Count  Dtype  \n",
      "---  ------           --------------  -----  \n",
      " 0   male             4238 non-null   int64  \n",
      " 1   age              4238 non-null   int64  \n",
      " 2   education        4133 non-null   float64\n",
      " 3   currentSmoker    4238 non-null   int64  \n",
      " 4   cigsPerDay       4209 non-null   float64\n",
      " 5   BPMeds           4185 non-null   float64\n",
      " 6   prevalentStroke  4238 non-null   int64  \n",
      " 7   prevalentHyp     4238 non-null   int64  \n",
      " 8   diabetes         4238 non-null   int64  \n",
      " 9   totChol          4188 non-null   float64\n",
      " 10  sysBP            4238 non-null   float64\n",
      " 11  diaBP            4238 non-null   float64\n",
      " 12  BMI              4219 non-null   float64\n",
      " 13  heartRate        4237 non-null   float64\n",
      " 14  glucose          3850 non-null   float64\n",
      " 15  TenYearCHD       4238 non-null   int64  \n",
      "dtypes: float64(9), int64(7)\n",
      "memory usage: 529.9 KB\n"
     ]
    }
   ],
   "source": [
    "df_CHD.info()"
   ]
  },
  {
   "cell_type": "code",
   "execution_count": 11,
   "id": "913bd07f",
   "metadata": {},
   "outputs": [
    {
     "data": {
      "text/plain": [
       "male                 0\n",
       "age                  0\n",
       "education          105\n",
       "currentSmoker        0\n",
       "cigsPerDay          29\n",
       "BPMeds              53\n",
       "prevalentStroke      0\n",
       "prevalentHyp         0\n",
       "diabetes             0\n",
       "totChol             50\n",
       "sysBP                0\n",
       "diaBP                0\n",
       "BMI                 19\n",
       "heartRate            1\n",
       "glucose            388\n",
       "TenYearCHD           0\n",
       "dtype: int64"
      ]
     },
     "execution_count": 11,
     "metadata": {},
     "output_type": "execute_result"
    }
   ],
   "source": [
    "df_CHD.isna().sum()"
   ]
  },
  {
   "cell_type": "code",
   "execution_count": 12,
   "id": "ed1a4999",
   "metadata": {},
   "outputs": [
    {
     "data": {
      "text/plain": [
       "<AxesSubplot:>"
      ]
     },
     "execution_count": 12,
     "metadata": {},
     "output_type": "execute_result"
    },
    {
     "data": {
      "image/png": "[encoded data removed]",
      "text/plain": [
       "<Figure size 432x288 with 2 Axes>"
      ]
     },
     "metadata": {
      "needs_background": "light"
     },
     "output_type": "display_data"
    }
   ],
   "source": [
    "sns.heatmap(df_CHD.isna())"
   ]
  },
  {
   "cell_type": "markdown",
   "id": "9ef880eb",
   "metadata": {},
   "source": [
    "### Handling missing values"
   ]
  },
  {
   "cell_type": "markdown",
   "id": "74942461",
   "metadata": {},
   "source": [
    "##### 1.education"
   ]
  },
  {
   "cell_type": "code",
   "execution_count": 13,
   "id": "e76602d5",
   "metadata": {},
   "outputs": [
    {
     "data": {
      "text/plain": [
       "<AxesSubplot:xlabel='education'>"
      ]
     },
     "execution_count": 13,
     "metadata": {},
     "output_type": "execute_result"
    },
    {
     "data": {
      "image/png": "[encoded data removed]",
      "text/plain": [
       "<Figure size 432x288 with 1 Axes>"
      ]
     },
     "metadata": {
      "needs_background": "light"
     },
     "output_type": "display_data"
    }
   ],
   "source": [
    "sns.boxplot(df_CHD['education'])"
   ]
  },
  {
   "cell_type": "code",
   "execution_count": 14,
   "id": "d4eec097",
   "metadata": {},
   "outputs": [],
   "source": [
    "df_CHD['education']=df_CHD['education'].fillna(df_CHD['education'].median())"
   ]
  },
  {
   "cell_type": "code",
   "execution_count": 15,
   "id": "d46fdc90",
   "metadata": {},
   "outputs": [
    {
     "data": {
      "text/plain": [
       "0"
      ]
     },
     "execution_count": 15,
     "metadata": {},
     "output_type": "execute_result"
    }
   ],
   "source": [
    "df_CHD['education'].isna().sum()"
   ]
  },
  {
   "cell_type": "markdown",
   "id": "145ff096",
   "metadata": {},
   "source": [
    "##### 2.cigsPerDay"
   ]
  },
  {
   "cell_type": "code",
   "execution_count": 16,
   "id": "5a2c0cfb",
   "metadata": {},
   "outputs": [
    {
     "data": {
      "text/plain": [
       "<AxesSubplot:xlabel='cigsPerDay'>"
      ]
     },
     "execution_count": 16,
     "metadata": {},
     "output_type": "execute_result"
    },
    {
     "data": {
      "image/png": "[encoded data removed]",
      "text/plain": [
       "<Figure size 432x288 with 1 Axes>"
      ]
     },
     "metadata": {
      "needs_background": "light"
     },
     "output_type": "display_data"
    }
   ],
   "source": [
    "sns.boxplot(df_CHD['cigsPerDay'])"
   ]
  },
  {
   "cell_type": "code",
   "execution_count": 17,
   "id": "7520db35",
   "metadata": {},
   "outputs": [],
   "source": [
    "df_CHD['cigsPerDay']=df_CHD['cigsPerDay'].fillna(df_CHD['cigsPerDay'].median())"
   ]
  },
  {
   "cell_type": "code",
   "execution_count": 18,
   "id": "7c5e98c0",
   "metadata": {},
   "outputs": [
    {
     "data": {
      "text/plain": [
       "0"
      ]
     },
     "execution_count": 18,
     "metadata": {},
     "output_type": "execute_result"
    }
   ],
   "source": [
    "df_CHD['cigsPerDay'].isna().sum()"
   ]
  },
  {
   "cell_type": "code",
   "execution_count": 19,
   "id": "c1261dbf",
   "metadata": {},
   "outputs": [
    {
     "data": {
      "text/plain": [
       "<AxesSubplot:xlabel='cigsPerDay'>"
      ]
     },
     "execution_count": 19,
     "metadata": {},
     "output_type": "execute_result"
    },
    {
     "data": {
      "image/png": "[encoded data removed]",
      "text/plain": [
       "<Figure size 432x288 with 1 Axes>"
      ]
     },
     "metadata": {
      "needs_background": "light"
     },
     "output_type": "display_data"
    }
   ],
   "source": [
    "sns.boxplot(df_CHD['cigsPerDay'])"
   ]
  },
  {
   "cell_type": "markdown",
   "id": "eaae3e92",
   "metadata": {},
   "source": [
    "##### 3.BPMeds"
   ]
  },
  {
   "cell_type": "code",
   "execution_count": 20,
   "id": "0463c1c4",
   "metadata": {},
   "outputs": [],
   "source": [
    "df_CHD['BPMeds']=df_CHD['BPMeds'].fillna(df_CHD['BPMeds'].median())"
   ]
  },
  {
   "cell_type": "code",
   "execution_count": 21,
   "id": "0c659de6",
   "metadata": {},
   "outputs": [
    {
     "data": {
      "text/plain": [
       "0"
      ]
     },
     "execution_count": 21,
     "metadata": {},
     "output_type": "execute_result"
    }
   ],
   "source": [
    "df_CHD['BPMeds'].isna().sum()"
   ]
  },
  {
   "cell_type": "markdown",
   "id": "a33cae4b",
   "metadata": {},
   "source": [
    "##### 4.totChol"
   ]
  },
  {
   "cell_type": "code",
   "execution_count": 22,
   "id": "ebd4478d",
   "metadata": {},
   "outputs": [],
   "source": [
    "df_CHD['totChol']=df_CHD['totChol'].fillna(df_CHD['totChol'].median())"
   ]
  },
  {
   "cell_type": "code",
   "execution_count": 23,
   "id": "9a215b12",
   "metadata": {},
   "outputs": [
    {
     "data": {
      "text/plain": [
       "0"
      ]
     },
     "execution_count": 23,
     "metadata": {},
     "output_type": "execute_result"
    }
   ],
   "source": [
    "df_CHD['totChol'].isna().sum()"
   ]
  },
  {
   "cell_type": "markdown",
   "id": "8dff8d36",
   "metadata": {},
   "source": [
    "##### 5.BMI"
   ]
  },
  {
   "cell_type": "code",
   "execution_count": 24,
   "id": "051524a6",
   "metadata": {},
   "outputs": [],
   "source": [
    "df_CHD['BMI']=df_CHD['BMI'].fillna(df_CHD['BMI'].median())"
   ]
  },
  {
   "cell_type": "code",
   "execution_count": 25,
   "id": "07bf580c",
   "metadata": {},
   "outputs": [
    {
     "data": {
      "text/plain": [
       "0"
      ]
     },
     "execution_count": 25,
     "metadata": {},
     "output_type": "execute_result"
    }
   ],
   "source": [
    "df_CHD['totChol'].isna().sum()"
   ]
  },
  {
   "cell_type": "markdown",
   "id": "2853b798",
   "metadata": {},
   "source": [
    "##### 6.heartRate  "
   ]
  },
  {
   "cell_type": "code",
   "execution_count": 26,
   "id": "0c664a33",
   "metadata": {},
   "outputs": [],
   "source": [
    "df_CHD['heartRate']=df_CHD['heartRate'].fillna(df_CHD['heartRate'].median())"
   ]
  },
  {
   "cell_type": "code",
   "execution_count": 27,
   "id": "a623df79",
   "metadata": {},
   "outputs": [
    {
     "data": {
      "text/plain": [
       "0"
      ]
     },
     "execution_count": 27,
     "metadata": {},
     "output_type": "execute_result"
    }
   ],
   "source": [
    "df_CHD['heartRate'].isna().sum()"
   ]
  },
  {
   "cell_type": "markdown",
   "id": "a21f4de4",
   "metadata": {},
   "source": [
    "##### 7.glucose"
   ]
  },
  {
   "cell_type": "code",
   "execution_count": 28,
   "id": "dcaa5806",
   "metadata": {},
   "outputs": [
    {
     "data": {
      "text/plain": [
       "<AxesSubplot:xlabel='glucose'>"
      ]
     },
     "execution_count": 28,
     "metadata": {},
     "output_type": "execute_result"
    },
    {
     "data": {
      "image/png": "[encoded data removed]",
      "text/plain": [
       "<Figure size 432x288 with 1 Axes>"
      ]
     },
     "metadata": {
      "needs_background": "light"
     },
     "output_type": "display_data"
    }
   ],
   "source": [
    "sns.boxplot(df_CHD['glucose'])"
   ]
  },
  {
   "cell_type": "code",
   "execution_count": 29,
   "id": "35e201e7",
   "metadata": {},
   "outputs": [],
   "source": [
    "df_CHD['glucose']=df_CHD['glucose'].fillna(df_CHD['glucose'].median())"
   ]
  },
  {
   "cell_type": "code",
   "execution_count": 30,
   "id": "37f3f89e",
   "metadata": {},
   "outputs": [
    {
     "data": {
      "text/plain": [
       "0"
      ]
     },
     "execution_count": 30,
     "metadata": {},
     "output_type": "execute_result"
    }
   ],
   "source": [
    "df_CHD['glucose'].isna().sum()"
   ]
  },
  {
   "cell_type": "code",
   "execution_count": 31,
   "id": "e6ed389c",
   "metadata": {},
   "outputs": [
    {
     "data": {
      "text/plain": [
       "<AxesSubplot:xlabel='glucose'>"
      ]
     },
     "execution_count": 31,
     "metadata": {},
     "output_type": "execute_result"
    },
    {
     "data": {
      "image/png": "[encoded data removed]",
      "text/plain": [
       "<Figure size 432x288 with 1 Axes>"
      ]
     },
     "metadata": {
      "needs_background": "light"
     },
     "output_type": "display_data"
    }
   ],
   "source": [
    "sns.boxplot(df_CHD['glucose'])"
   ]
  },
  {
   "cell_type": "code",
   "execution_count": 32,
   "id": "8fbcc00a",
   "metadata": {},
   "outputs": [
    {
     "data": {
      "text/plain": [
       "male               0\n",
       "age                0\n",
       "education          0\n",
       "currentSmoker      0\n",
       "cigsPerDay         0\n",
       "BPMeds             0\n",
       "prevalentStroke    0\n",
       "prevalentHyp       0\n",
       "diabetes           0\n",
       "totChol            0\n",
       "sysBP              0\n",
       "diaBP              0\n",
       "BMI                0\n",
       "heartRate          0\n",
       "glucose            0\n",
       "TenYearCHD         0\n",
       "dtype: int64"
      ]
     },
     "execution_count": 32,
     "metadata": {},
     "output_type": "execute_result"
    }
   ],
   "source": [
    "df_CHD.isna().sum()\n"
   ]
  },
  {
   "cell_type": "markdown",
   "id": "7f6e080e",
   "metadata": {},
   "source": [
    "### 3.EDA"
   ]
  },
  {
   "cell_type": "markdown",
   "id": "26471946",
   "metadata": {},
   "source": [
    "#### 1.male"
   ]
  },
  {
   "cell_type": "code",
   "execution_count": 33,
   "id": "4fe637d8",
   "metadata": {},
   "outputs": [
    {
     "data": {
      "text/plain": [
       "<AxesSubplot:xlabel='male'>"
      ]
     },
     "execution_count": 33,
     "metadata": {},
     "output_type": "execute_result"
    },
    {
     "data": {
      "image/png": "[encoded data removed]",
      "text/plain": [
       "<Figure size 432x288 with 1 Axes>"
      ]
     },
     "metadata": {
      "needs_background": "light"
     },
     "output_type": "display_data"
    }
   ],
   "source": [
    "sns.boxplot(df_CHD['male'])"
   ]
  },
  {
   "cell_type": "markdown",
   "id": "463c1c6f",
   "metadata": {},
   "source": [
    "#### 2.age"
   ]
  },
  {
   "cell_type": "code",
   "execution_count": 34,
   "id": "f98ca082",
   "metadata": {},
   "outputs": [
    {
     "data": {
      "text/plain": [
       "<AxesSubplot:xlabel='age'>"
      ]
     },
     "execution_count": 34,
     "metadata": {},
     "output_type": "execute_result"
    },
    {
     "data": {
      "image/png": "[encoded data removed]",
      "text/plain": [
       "<Figure size 432x288 with 1 Axes>"
      ]
     },
     "metadata": {
      "needs_background": "light"
     },
     "output_type": "display_data"
    }
   ],
   "source": [
    "sns.boxplot(df_CHD['age'])"
   ]
  },
  {
   "cell_type": "markdown",
   "id": "980c69cc",
   "metadata": {},
   "source": [
    "### 3.education"
   ]
  },
  {
   "cell_type": "code",
   "execution_count": 35,
   "id": "c33919ef",
   "metadata": {},
   "outputs": [
    {
     "data": {
      "text/plain": [
       "<AxesSubplot:xlabel='education'>"
      ]
     },
     "execution_count": 35,
     "metadata": {},
     "output_type": "execute_result"
    },
    {
     "data": {
      "image/png": "[encoded data removed]",
      "text/plain": [
       "<Figure size 432x288 with 1 Axes>"
      ]
     },
     "metadata": {
      "needs_background": "light"
     },
     "output_type": "display_data"
    }
   ],
   "source": [
    "sns.boxplot(df_CHD['education'])"
   ]
  },
  {
   "cell_type": "markdown",
   "id": "993d0817",
   "metadata": {},
   "source": [
    "### 4.currentSmoker"
   ]
  },
  {
   "cell_type": "code",
   "execution_count": 36,
   "id": "112554ce",
   "metadata": {},
   "outputs": [
    {
     "data": {
      "text/plain": [
       "<AxesSubplot:xlabel='currentSmoker'>"
      ]
     },
     "execution_count": 36,
     "metadata": {},
     "output_type": "execute_result"
    },
    {
     "data": {
      "image/png": "[encoded data removed]",
      "text/plain": [
       "<Figure size 432x288 with 1 Axes>"
      ]
     },
     "metadata": {
      "needs_background": "light"
     },
     "output_type": "display_data"
    }
   ],
   "source": [
    "sns.boxplot(df_CHD['currentSmoker'])"
   ]
  },
  {
   "cell_type": "markdown",
   "id": "47a70933",
   "metadata": {},
   "source": [
    "### 5.cigsPerDay"
   ]
  },
  {
   "cell_type": "code",
   "execution_count": 37,
   "id": "8f0f7edf",
   "metadata": {},
   "outputs": [
    {
     "data": {
      "text/plain": [
       "<AxesSubplot:xlabel='cigsPerDay'>"
      ]
     },
     "execution_count": 37,
     "metadata": {},
     "output_type": "execute_result"
    },
    {
     "data": {
      "image/png": "[encoded data removed]",
      "text/plain": [
       "<Figure size 432x288 with 1 Axes>"
      ]
     },
     "metadata": {
      "needs_background": "light"
     },
     "output_type": "display_data"
    }
   ],
   "source": [
    "sns.boxplot(df_CHD['cigsPerDay'])"
   ]
  },
  {
   "cell_type": "code",
   "execution_count": 38,
   "id": "67711f91",
   "metadata": {},
   "outputs": [],
   "source": [
    "df_CHD['cigsPerDay'] = np.where(df_CHD['cigsPerDay']>59, df_CHD['cigsPerDay'].median(), df_CHD['cigsPerDay'])"
   ]
  },
  {
   "cell_type": "markdown",
   "id": "c1ffb04e",
   "metadata": {},
   "source": [
    "### 6.BPMeds"
   ]
  },
  {
   "cell_type": "code",
   "execution_count": 39,
   "id": "cf555154",
   "metadata": {},
   "outputs": [
    {
     "data": {
      "text/plain": [
       "<AxesSubplot:xlabel='BPMeds'>"
      ]
     },
     "execution_count": 39,
     "metadata": {},
     "output_type": "execute_result"
    },
    {
     "data": {
      "image/png": "[encoded data removed]",
      "text/plain": [
       "<Figure size 432x288 with 1 Axes>"
      ]
     },
     "metadata": {
      "needs_background": "light"
     },
     "output_type": "display_data"
    }
   ],
   "source": [
    "sns.boxplot(df_CHD['BPMeds'])"
   ]
  },
  {
   "cell_type": "markdown",
   "id": "24aadad7",
   "metadata": {},
   "source": [
    "### 7.prevalentStroke"
   ]
  },
  {
   "cell_type": "code",
   "execution_count": 40,
   "id": "c002b7e7",
   "metadata": {},
   "outputs": [
    {
     "data": {
      "text/plain": [
       "<AxesSubplot:xlabel='prevalentStroke'>"
      ]
     },
     "execution_count": 40,
     "metadata": {},
     "output_type": "execute_result"
    },
    {
     "data": {
      "image/png": "[encoded data removed]",
      "text/plain": [
       "<Figure size 432x288 with 1 Axes>"
      ]
     },
     "metadata": {
      "needs_background": "light"
     },
     "output_type": "display_data"
    }
   ],
   "source": [
    "sns.boxplot(df_CHD['prevalentStroke'])"
   ]
  },
  {
   "cell_type": "code",
   "execution_count": 41,
   "id": "56982a0d",
   "metadata": {},
   "outputs": [
    {
     "data": {
      "text/plain": [
       "0    4213\n",
       "1      25\n",
       "Name: prevalentStroke, dtype: int64"
      ]
     },
     "execution_count": 41,
     "metadata": {},
     "output_type": "execute_result"
    }
   ],
   "source": [
    "df_CHD['prevalentStroke'].value_counts()"
   ]
  },
  {
   "cell_type": "markdown",
   "id": "d5ec9842",
   "metadata": {},
   "source": [
    "### 8.prevalentHyp"
   ]
  },
  {
   "cell_type": "code",
   "execution_count": 42,
   "id": "7e206c5e",
   "metadata": {},
   "outputs": [
    {
     "data": {
      "text/plain": [
       "0    2922\n",
       "1    1316\n",
       "Name: prevalentHyp, dtype: int64"
      ]
     },
     "execution_count": 42,
     "metadata": {},
     "output_type": "execute_result"
    }
   ],
   "source": [
    "df_CHD['prevalentHyp'].value_counts()"
   ]
  },
  {
   "cell_type": "code",
   "execution_count": 43,
   "id": "fda7b78e",
   "metadata": {},
   "outputs": [
    {
     "data": {
      "text/plain": [
       "<AxesSubplot:xlabel='prevalentHyp'>"
      ]
     },
     "execution_count": 43,
     "metadata": {},
     "output_type": "execute_result"
    },
    {
     "data": {
      "image/png": "[encoded data removed]",
      "text/plain": [
       "<Figure size 432x288 with 1 Axes>"
      ]
     },
     "metadata": {
      "needs_background": "light"
     },
     "output_type": "display_data"
    }
   ],
   "source": [
    "sns.boxplot(df_CHD['prevalentHyp'])"
   ]
  },
  {
   "cell_type": "markdown",
   "id": "3e23aae7",
   "metadata": {},
   "source": [
    "### 9.diabetes"
   ]
  },
  {
   "cell_type": "code",
   "execution_count": 44,
   "id": "610c1f02",
   "metadata": {},
   "outputs": [
    {
     "data": {
      "text/plain": [
       "<AxesSubplot:xlabel='diabetes'>"
      ]
     },
     "execution_count": 44,
     "metadata": {},
     "output_type": "execute_result"
    },
    {
     "data": {
      "image/png": "[encoded data removed]",
      "text/plain": [
       "<Figure size 432x288 with 1 Axes>"
      ]
     },
     "metadata": {
      "needs_background": "light"
     },
     "output_type": "display_data"
    }
   ],
   "source": [
    "sns.boxplot(df_CHD['diabetes'])"
   ]
  },
  {
   "cell_type": "code",
   "execution_count": 45,
   "id": "886f25de",
   "metadata": {},
   "outputs": [
    {
     "data": {
      "text/plain": [
       "0    4129\n",
       "1     109\n",
       "Name: diabetes, dtype: int64"
      ]
     },
     "execution_count": 45,
     "metadata": {},
     "output_type": "execute_result"
    }
   ],
   "source": [
    "df_CHD['diabetes'].value_counts()"
   ]
  },
  {
   "cell_type": "markdown",
   "id": "1fa02f0e",
   "metadata": {},
   "source": [
    "### 10.totChol"
   ]
  },
  {
   "cell_type": "code",
   "execution_count": 46,
   "id": "d3555d8d",
   "metadata": {},
   "outputs": [
    {
     "data": {
      "text/plain": [
       "<AxesSubplot:xlabel='totChol'>"
      ]
     },
     "execution_count": 46,
     "metadata": {},
     "output_type": "execute_result"
    },
    {
     "data": {
      "image/png": "[encoded data removed]",
      "text/plain": [
       "<Figure size 432x288 with 1 Axes>"
      ]
     },
     "metadata": {
      "needs_background": "light"
     },
     "output_type": "display_data"
    }
   ],
   "source": [
    "sns.boxplot(df_CHD['totChol'])"
   ]
  },
  {
   "cell_type": "code",
   "execution_count": 47,
   "id": "b060408e",
   "metadata": {},
   "outputs": [],
   "source": [
    "df_CHD['totChol'] = np.where(~df_CHD['totChol'].between(110,350), df_CHD['totChol'].median(),\n",
    "                                   df_CHD['totChol'])"
   ]
  },
  {
   "cell_type": "code",
   "execution_count": 48,
   "id": "0bc39404",
   "metadata": {},
   "outputs": [
    {
     "data": {
      "text/plain": [
       "<AxesSubplot:xlabel='totChol'>"
      ]
     },
     "execution_count": 48,
     "metadata": {},
     "output_type": "execute_result"
    },
    {
     "data": {
      "image/png": "[encoded data removed]",
      "text/plain": [
       "<Figure size 432x288 with 1 Axes>"
      ]
     },
     "metadata": {
      "needs_background": "light"
     },
     "output_type": "display_data"
    }
   ],
   "source": [
    "sns.boxplot(df_CHD['totChol'])"
   ]
  },
  {
   "cell_type": "markdown",
   "id": "aaace6e5",
   "metadata": {},
   "source": [
    "### 11.sysBP"
   ]
  },
  {
   "cell_type": "code",
   "execution_count": 49,
   "id": "b00f0a4b",
   "metadata": {},
   "outputs": [
    {
     "data": {
      "text/plain": [
       "<AxesSubplot:xlabel='sysBP', ylabel='Density'>"
      ]
     },
     "execution_count": 49,
     "metadata": {},
     "output_type": "execute_result"
    },
    {
     "data": {
      "image/png": "[encoded data removed]",
      "text/plain": [
       "<Figure size 432x288 with 1 Axes>"
      ]
     },
     "metadata": {
      "needs_background": "light"
     },
     "output_type": "display_data"
    }
   ],
   "source": [
    "sns.distplot(df_CHD['sysBP'])"
   ]
  },
  {
   "cell_type": "code",
   "execution_count": 50,
   "id": "0879386a",
   "metadata": {},
   "outputs": [
    {
     "data": {
      "text/plain": [
       "<AxesSubplot:xlabel='sysBP'>"
      ]
     },
     "execution_count": 50,
     "metadata": {},
     "output_type": "execute_result"
    },
    {
     "data": {
      "image/png": "[encoded data removed]",
      "text/plain": [
       "<Figure size 432x288 with 1 Axes>"
      ]
     },
     "metadata": {
      "needs_background": "light"
     },
     "output_type": "display_data"
    }
   ],
   "source": [
    "sns.boxplot(df_CHD['sysBP'])"
   ]
  },
  {
   "cell_type": "code",
   "execution_count": 51,
   "id": "f522d0f8",
   "metadata": {},
   "outputs": [],
   "source": [
    "df_CHD['sysBP'] = np.where(df_CHD['sysBP']>185, df_CHD['sysBP'].median(), df_CHD['sysBP'])"
   ]
  },
  {
   "cell_type": "code",
   "execution_count": 52,
   "id": "1ed63070",
   "metadata": {},
   "outputs": [
    {
     "data": {
      "text/plain": [
       "<AxesSubplot:xlabel='sysBP'>"
      ]
     },
     "execution_count": 52,
     "metadata": {},
     "output_type": "execute_result"
    },
    {
     "data": {
      "image/png": "[encoded data removed]",
      "text/plain": [
       "<Figure size 432x288 with 1 Axes>"
      ]
     },
     "metadata": {
      "needs_background": "light"
     },
     "output_type": "display_data"
    }
   ],
   "source": [
    "sns.boxplot(df_CHD['sysBP'])"
   ]
  },
  {
   "cell_type": "code",
   "execution_count": 53,
   "id": "541301df",
   "metadata": {},
   "outputs": [
    {
     "data": {
      "text/plain": [
       "<AxesSubplot:xlabel='sysBP', ylabel='Density'>"
      ]
     },
     "execution_count": 53,
     "metadata": {},
     "output_type": "execute_result"
    },
    {
     "data": {
      "image/png": "[encoded data removed]",
      "text/plain": [
       "<Figure size 432x288 with 1 Axes>"
      ]
     },
     "metadata": {
      "needs_background": "light"
     },
     "output_type": "display_data"
    }
   ],
   "source": [
    "sns.distplot(df_CHD['sysBP'])"
   ]
  },
  {
   "cell_type": "markdown",
   "id": "6b5f00a9",
   "metadata": {},
   "source": [
    "### 12.diaBP"
   ]
  },
  {
   "cell_type": "code",
   "execution_count": 54,
   "id": "894fd2d1",
   "metadata": {},
   "outputs": [
    {
     "data": {
      "text/plain": [
       "<AxesSubplot:xlabel='diaBP', ylabel='Density'>"
      ]
     },
     "execution_count": 54,
     "metadata": {},
     "output_type": "execute_result"
    },
    {
     "data": {
      "image/png": "[encoded data removed]",
      "text/plain": [
       "<Figure size 432x288 with 1 Axes>"
      ]
     },
     "metadata": {
      "needs_background": "light"
     },
     "output_type": "display_data"
    }
   ],
   "source": [
    "sns.distplot(df_CHD['diaBP'])"
   ]
  },
  {
   "cell_type": "code",
   "execution_count": 55,
   "id": "519fe95b",
   "metadata": {},
   "outputs": [
    {
     "data": {
      "text/plain": [
       "<AxesSubplot:xlabel='diaBP'>"
      ]
     },
     "execution_count": 55,
     "metadata": {},
     "output_type": "execute_result"
    },
    {
     "data": {
      "image/png": "[encoded data removed]",
      "text/plain": [
       "<Figure size 432x288 with 1 Axes>"
      ]
     },
     "metadata": {
      "needs_background": "light"
     },
     "output_type": "display_data"
    }
   ],
   "source": [
    "sns.boxplot(df_CHD['diaBP'])"
   ]
  },
  {
   "cell_type": "code",
   "execution_count": 56,
   "id": "1fc93ec9",
   "metadata": {},
   "outputs": [],
   "source": [
    "df_CHD['diaBP'] = np.where(~df_CHD['diaBP'].between(46,115), df_CHD['diaBP'].median(),\n",
    "                                   df_CHD['diaBP'])"
   ]
  },
  {
   "cell_type": "code",
   "execution_count": 57,
   "id": "95dc7ca7",
   "metadata": {},
   "outputs": [
    {
     "data": {
      "text/plain": [
       "<AxesSubplot:xlabel='diaBP'>"
      ]
     },
     "execution_count": 57,
     "metadata": {},
     "output_type": "execute_result"
    },
    {
     "data": {
      "image/png": "[encoded data removed]",
      "text/plain": [
       "<Figure size 432x288 with 1 Axes>"
      ]
     },
     "metadata": {
      "needs_background": "light"
     },
     "output_type": "display_data"
    }
   ],
   "source": [
    "sns.boxplot(df_CHD['diaBP'])"
   ]
  },
  {
   "cell_type": "markdown",
   "id": "b94aae1c",
   "metadata": {},
   "source": [
    "### 13.BMI"
   ]
  },
  {
   "cell_type": "code",
   "execution_count": 58,
   "id": "0969f176",
   "metadata": {},
   "outputs": [
    {
     "data": {
      "text/plain": [
       "<AxesSubplot:xlabel='BMI'>"
      ]
     },
     "execution_count": 58,
     "metadata": {},
     "output_type": "execute_result"
    },
    {
     "data": {
      "image/png": "[encoded data removed]",
      "text/plain": [
       "<Figure size 432x288 with 1 Axes>"
      ]
     },
     "metadata": {
      "needs_background": "light"
     },
     "output_type": "display_data"
    }
   ],
   "source": [
    "sns.boxplot(df_CHD['BMI'])"
   ]
  },
  {
   "cell_type": "code",
   "execution_count": 59,
   "id": "3e57a7a4",
   "metadata": {},
   "outputs": [],
   "source": [
    "df_CHD['BMI'] = np.where(df_CHD['BMI']>37, df_CHD['BMI'].median(), df_CHD['BMI'])"
   ]
  },
  {
   "cell_type": "markdown",
   "id": "4355cf21",
   "metadata": {},
   "source": [
    "### 14.heartrate"
   ]
  },
  {
   "cell_type": "code",
   "execution_count": 60,
   "id": "5de324e4",
   "metadata": {},
   "outputs": [
    {
     "data": {
      "text/plain": [
       "<AxesSubplot:xlabel='heartRate'>"
      ]
     },
     "execution_count": 60,
     "metadata": {},
     "output_type": "execute_result"
    },
    {
     "data": {
      "image/png": "[encoded data removed]",
      "text/plain": [
       "<Figure size 432x288 with 1 Axes>"
      ]
     },
     "metadata": {
      "needs_background": "light"
     },
     "output_type": "display_data"
    }
   ],
   "source": [
    "sns.boxplot(df_CHD['heartRate'])"
   ]
  },
  {
   "cell_type": "code",
   "execution_count": 61,
   "id": "26212f11",
   "metadata": {},
   "outputs": [],
   "source": [
    "df_CHD['heartRate'] = np.where(df_CHD['heartRate']>105, df_CHD['heartRate'].median(), df_CHD['heartRate'])"
   ]
  },
  {
   "cell_type": "markdown",
   "id": "db2f2cec",
   "metadata": {},
   "source": [
    "### 15.glucose"
   ]
  },
  {
   "cell_type": "code",
   "execution_count": 62,
   "id": "8850afd2",
   "metadata": {},
   "outputs": [
    {
     "data": {
      "text/plain": [
       "<AxesSubplot:xlabel='glucose'>"
      ]
     },
     "execution_count": 62,
     "metadata": {},
     "output_type": "execute_result"
    },
    {
     "data": {
      "image/png": "[encoded data removed]",
      "text/plain": [
       "<Figure size 432x288 with 1 Axes>"
      ]
     },
     "metadata": {
      "needs_background": "light"
     },
     "output_type": "display_data"
    }
   ],
   "source": [
    "sns.boxplot(df_CHD['glucose'])"
   ]
  },
  {
   "cell_type": "code",
   "execution_count": 63,
   "id": "61c9da0d",
   "metadata": {},
   "outputs": [],
   "source": [
    "df_CHD['glucose'] = np.where(df_CHD['glucose']>105, df_CHD['glucose'].median(), df_CHD['glucose'])"
   ]
  },
  {
   "cell_type": "code",
   "execution_count": 64,
   "id": "7a7680d2",
   "metadata": {},
   "outputs": [],
   "source": [
    "df_CHD['glucose'] = np.where(df_CHD['glucose']<56, df_CHD['glucose'].median(), df_CHD['glucose'])"
   ]
  },
  {
   "cell_type": "code",
   "execution_count": 65,
   "id": "df624055",
   "metadata": {
    "scrolled": true
   },
   "outputs": [
    {
     "data": {
      "text/plain": [
       "(array([   0,    1,    2, ..., 4235, 4236, 4237], dtype=int64),)"
      ]
     },
     "execution_count": 65,
     "metadata": {},
     "output_type": "execute_result"
    }
   ],
   "source": [
    "np.where(df_CHD['glucose'])"
   ]
  },
  {
   "cell_type": "code",
   "execution_count": 66,
   "id": "45ef0a26",
   "metadata": {},
   "outputs": [
    {
     "data": {
      "text/plain": [
       "<AxesSubplot:xlabel='glucose'>"
      ]
     },
     "execution_count": 66,
     "metadata": {},
     "output_type": "execute_result"
    },
    {
     "data": {
      "image/png": "[encoded data removed]",
      "text/plain": [
       "<Figure size 432x288 with 1 Axes>"
      ]
     },
     "metadata": {
      "needs_background": "light"
     },
     "output_type": "display_data"
    }
   ],
   "source": [
    "sns.boxplot(df_CHD['glucose'])"
   ]
  },
  {
   "cell_type": "markdown",
   "id": "1ed72dab",
   "metadata": {},
   "source": [
    "### 4.Feature Engineering"
   ]
  },
  {
   "cell_type": "markdown",
   "id": "74772437",
   "metadata": {},
   "source": [
    "### 5.Feature Selection"
   ]
  },
  {
   "cell_type": "code",
   "execution_count": 67,
   "id": "442435b4",
   "metadata": {},
   "outputs": [
    {
     "data": {
      "text/html": [
       "<div>\n",
       "<style scoped>\n",
       "    .dataframe tbody tr th:only-of-type {\n",
       "        vertical-align: middle;\n",
       "    }\n",
       "\n",
       "    .dataframe tbody tr th {\n",
       "        vertical-align: top;\n",
       "    }\n",
       "\n",
       "    .dataframe thead th {\n",
       "        text-align: right;\n",
       "    }\n",
       "</style>\n",
       "<table border=\"1\" class=\"dataframe\">\n",
       "  <thead>\n",
       "    <tr style=\"text-align: right;\">\n",
       "      <th></th>\n",
       "      <th>male</th>\n",
       "      <th>age</th>\n",
       "      <th>education</th>\n",
       "      <th>currentSmoker</th>\n",
       "      <th>cigsPerDay</th>\n",
       "      <th>BPMeds</th>\n",
       "      <th>prevalentStroke</th>\n",
       "      <th>prevalentHyp</th>\n",
       "      <th>diabetes</th>\n",
       "      <th>totChol</th>\n",
       "      <th>sysBP</th>\n",
       "      <th>diaBP</th>\n",
       "      <th>BMI</th>\n",
       "      <th>heartRate</th>\n",
       "      <th>glucose</th>\n",
       "      <th>TenYearCHD</th>\n",
       "    </tr>\n",
       "  </thead>\n",
       "  <tbody>\n",
       "    <tr>\n",
       "      <th>TenYearCHD</th>\n",
       "      <td>0.088428</td>\n",
       "      <td>0.225256</td>\n",
       "      <td>-0.053383</td>\n",
       "      <td>0.019456</td>\n",
       "      <td>0.059956</td>\n",
       "      <td>0.086417</td>\n",
       "      <td>0.06181</td>\n",
       "      <td>0.177603</td>\n",
       "      <td>0.097317</td>\n",
       "      <td>0.074276</td>\n",
       "      <td>0.1744</td>\n",
       "      <td>0.115033</td>\n",
       "      <td>0.058141</td>\n",
       "      <td>0.015287</td>\n",
       "      <td>0.025682</td>\n",
       "      <td>1.0</td>\n",
       "    </tr>\n",
       "  </tbody>\n",
       "</table>\n",
       "</div>"
      ],
      "text/plain": [
       "                male       age  education  currentSmoker  cigsPerDay  \\\n",
       "TenYearCHD  0.088428  0.225256  -0.053383       0.019456    0.059956   \n",
       "\n",
       "              BPMeds  prevalentStroke  prevalentHyp  diabetes   totChol  \\\n",
       "TenYearCHD  0.086417          0.06181      0.177603  0.097317  0.074276   \n",
       "\n",
       "             sysBP     diaBP       BMI  heartRate   glucose  TenYearCHD  \n",
       "TenYearCHD  0.1744  0.115033  0.058141   0.015287  0.025682         1.0  "
      ]
     },
     "execution_count": 67,
     "metadata": {},
     "output_type": "execute_result"
    }
   ],
   "source": [
    "df_CHD.corr().tail(1)"
   ]
  },
  {
   "cell_type": "code",
   "execution_count": 68,
   "id": "6415ec4e",
   "metadata": {},
   "outputs": [
    {
     "data": {
      "text/plain": [
       "<AxesSubplot:>"
      ]
     },
     "execution_count": 68,
     "metadata": {},
     "output_type": "execute_result"
    },
    {
     "data": {
      "image/png": "[encoded data removed]",
      "text/plain": [
       "<Figure size 1080x864 with 2 Axes>"
      ]
     },
     "metadata": {
      "needs_background": "light"
     },
     "output_type": "display_data"
    }
   ],
   "source": [
    "plt.figure(figsize=(15,12))\n",
    "sns.heatmap(df_CHD.corr(),annot=True)"
   ]
  },
  {
   "cell_type": "code",
   "execution_count": 69,
   "id": "25158410",
   "metadata": {},
   "outputs": [
    {
     "data": {
      "text/html": [
       "<div>\n",
       "<style scoped>\n",
       "    .dataframe tbody tr th:only-of-type {\n",
       "        vertical-align: middle;\n",
       "    }\n",
       "\n",
       "    .dataframe tbody tr th {\n",
       "        vertical-align: top;\n",
       "    }\n",
       "\n",
       "    .dataframe thead th {\n",
       "        text-align: right;\n",
       "    }\n",
       "</style>\n",
       "<table border=\"1\" class=\"dataframe\">\n",
       "  <thead>\n",
       "    <tr style=\"text-align: right;\">\n",
       "      <th></th>\n",
       "      <th>male</th>\n",
       "      <th>age</th>\n",
       "      <th>education</th>\n",
       "      <th>currentSmoker</th>\n",
       "      <th>cigsPerDay</th>\n",
       "      <th>BPMeds</th>\n",
       "      <th>prevalentStroke</th>\n",
       "      <th>prevalentHyp</th>\n",
       "      <th>diabetes</th>\n",
       "      <th>totChol</th>\n",
       "      <th>sysBP</th>\n",
       "      <th>diaBP</th>\n",
       "      <th>BMI</th>\n",
       "      <th>heartRate</th>\n",
       "      <th>glucose</th>\n",
       "    </tr>\n",
       "  </thead>\n",
       "  <tbody>\n",
       "    <tr>\n",
       "      <th>0</th>\n",
       "      <td>1</td>\n",
       "      <td>39</td>\n",
       "      <td>4.0</td>\n",
       "      <td>0</td>\n",
       "      <td>0.0</td>\n",
       "      <td>0.0</td>\n",
       "      <td>0</td>\n",
       "      <td>0</td>\n",
       "      <td>0</td>\n",
       "      <td>195.0</td>\n",
       "      <td>106.0</td>\n",
       "      <td>70.0</td>\n",
       "      <td>26.97</td>\n",
       "      <td>80.0</td>\n",
       "      <td>77.0</td>\n",
       "    </tr>\n",
       "    <tr>\n",
       "      <th>1</th>\n",
       "      <td>0</td>\n",
       "      <td>46</td>\n",
       "      <td>2.0</td>\n",
       "      <td>0</td>\n",
       "      <td>0.0</td>\n",
       "      <td>0.0</td>\n",
       "      <td>0</td>\n",
       "      <td>0</td>\n",
       "      <td>0</td>\n",
       "      <td>250.0</td>\n",
       "      <td>121.0</td>\n",
       "      <td>81.0</td>\n",
       "      <td>28.73</td>\n",
       "      <td>95.0</td>\n",
       "      <td>76.0</td>\n",
       "    </tr>\n",
       "    <tr>\n",
       "      <th>2</th>\n",
       "      <td>1</td>\n",
       "      <td>48</td>\n",
       "      <td>1.0</td>\n",
       "      <td>1</td>\n",
       "      <td>20.0</td>\n",
       "      <td>0.0</td>\n",
       "      <td>0</td>\n",
       "      <td>0</td>\n",
       "      <td>0</td>\n",
       "      <td>245.0</td>\n",
       "      <td>127.5</td>\n",
       "      <td>80.0</td>\n",
       "      <td>25.34</td>\n",
       "      <td>75.0</td>\n",
       "      <td>70.0</td>\n",
       "    </tr>\n",
       "    <tr>\n",
       "      <th>3</th>\n",
       "      <td>0</td>\n",
       "      <td>61</td>\n",
       "      <td>3.0</td>\n",
       "      <td>1</td>\n",
       "      <td>30.0</td>\n",
       "      <td>0.0</td>\n",
       "      <td>0</td>\n",
       "      <td>1</td>\n",
       "      <td>0</td>\n",
       "      <td>225.0</td>\n",
       "      <td>150.0</td>\n",
       "      <td>95.0</td>\n",
       "      <td>28.58</td>\n",
       "      <td>65.0</td>\n",
       "      <td>103.0</td>\n",
       "    </tr>\n",
       "    <tr>\n",
       "      <th>4</th>\n",
       "      <td>0</td>\n",
       "      <td>46</td>\n",
       "      <td>3.0</td>\n",
       "      <td>1</td>\n",
       "      <td>23.0</td>\n",
       "      <td>0.0</td>\n",
       "      <td>0</td>\n",
       "      <td>0</td>\n",
       "      <td>0</td>\n",
       "      <td>285.0</td>\n",
       "      <td>130.0</td>\n",
       "      <td>84.0</td>\n",
       "      <td>23.10</td>\n",
       "      <td>85.0</td>\n",
       "      <td>85.0</td>\n",
       "    </tr>\n",
       "    <tr>\n",
       "      <th>...</th>\n",
       "      <td>...</td>\n",
       "      <td>...</td>\n",
       "      <td>...</td>\n",
       "      <td>...</td>\n",
       "      <td>...</td>\n",
       "      <td>...</td>\n",
       "      <td>...</td>\n",
       "      <td>...</td>\n",
       "      <td>...</td>\n",
       "      <td>...</td>\n",
       "      <td>...</td>\n",
       "      <td>...</td>\n",
       "      <td>...</td>\n",
       "      <td>...</td>\n",
       "      <td>...</td>\n",
       "    </tr>\n",
       "    <tr>\n",
       "      <th>4233</th>\n",
       "      <td>1</td>\n",
       "      <td>50</td>\n",
       "      <td>1.0</td>\n",
       "      <td>1</td>\n",
       "      <td>1.0</td>\n",
       "      <td>0.0</td>\n",
       "      <td>0</td>\n",
       "      <td>1</td>\n",
       "      <td>0</td>\n",
       "      <td>313.0</td>\n",
       "      <td>179.0</td>\n",
       "      <td>92.0</td>\n",
       "      <td>25.97</td>\n",
       "      <td>66.0</td>\n",
       "      <td>86.0</td>\n",
       "    </tr>\n",
       "    <tr>\n",
       "      <th>4234</th>\n",
       "      <td>1</td>\n",
       "      <td>51</td>\n",
       "      <td>3.0</td>\n",
       "      <td>1</td>\n",
       "      <td>43.0</td>\n",
       "      <td>0.0</td>\n",
       "      <td>0</td>\n",
       "      <td>0</td>\n",
       "      <td>0</td>\n",
       "      <td>207.0</td>\n",
       "      <td>126.5</td>\n",
       "      <td>80.0</td>\n",
       "      <td>19.71</td>\n",
       "      <td>65.0</td>\n",
       "      <td>68.0</td>\n",
       "    </tr>\n",
       "    <tr>\n",
       "      <th>4235</th>\n",
       "      <td>0</td>\n",
       "      <td>48</td>\n",
       "      <td>2.0</td>\n",
       "      <td>1</td>\n",
       "      <td>20.0</td>\n",
       "      <td>0.0</td>\n",
       "      <td>0</td>\n",
       "      <td>0</td>\n",
       "      <td>0</td>\n",
       "      <td>248.0</td>\n",
       "      <td>131.0</td>\n",
       "      <td>72.0</td>\n",
       "      <td>22.00</td>\n",
       "      <td>84.0</td>\n",
       "      <td>86.0</td>\n",
       "    </tr>\n",
       "    <tr>\n",
       "      <th>4236</th>\n",
       "      <td>0</td>\n",
       "      <td>44</td>\n",
       "      <td>1.0</td>\n",
       "      <td>1</td>\n",
       "      <td>15.0</td>\n",
       "      <td>0.0</td>\n",
       "      <td>0</td>\n",
       "      <td>0</td>\n",
       "      <td>0</td>\n",
       "      <td>210.0</td>\n",
       "      <td>126.5</td>\n",
       "      <td>87.0</td>\n",
       "      <td>19.16</td>\n",
       "      <td>86.0</td>\n",
       "      <td>78.0</td>\n",
       "    </tr>\n",
       "    <tr>\n",
       "      <th>4237</th>\n",
       "      <td>0</td>\n",
       "      <td>52</td>\n",
       "      <td>2.0</td>\n",
       "      <td>0</td>\n",
       "      <td>0.0</td>\n",
       "      <td>0.0</td>\n",
       "      <td>0</td>\n",
       "      <td>0</td>\n",
       "      <td>0</td>\n",
       "      <td>269.0</td>\n",
       "      <td>133.5</td>\n",
       "      <td>83.0</td>\n",
       "      <td>21.47</td>\n",
       "      <td>80.0</td>\n",
       "      <td>78.0</td>\n",
       "    </tr>\n",
       "  </tbody>\n",
       "</table>\n",
       "<p>4238 rows × 15 columns</p>\n",
       "</div>"
      ],
      "text/plain": [
       "      male  age  education  currentSmoker  cigsPerDay  BPMeds  \\\n",
       "0        1   39        4.0              0         0.0     0.0   \n",
       "1        0   46        2.0              0         0.0     0.0   \n",
       "2        1   48        1.0              1        20.0     0.0   \n",
       "3        0   61        3.0              1        30.0     0.0   \n",
       "4        0   46        3.0              1        23.0     0.0   \n",
       "...    ...  ...        ...            ...         ...     ...   \n",
       "4233     1   50        1.0              1         1.0     0.0   \n",
       "4234     1   51        3.0              1        43.0     0.0   \n",
       "4235     0   48        2.0              1        20.0     0.0   \n",
       "4236     0   44        1.0              1        15.0     0.0   \n",
       "4237     0   52        2.0              0         0.0     0.0   \n",
       "\n",
       "      prevalentStroke  prevalentHyp  diabetes  totChol  sysBP  diaBP    BMI  \\\n",
       "0                   0             0         0    195.0  106.0   70.0  26.97   \n",
       "1                   0             0         0    250.0  121.0   81.0  28.73   \n",
       "2                   0             0         0    245.0  127.5   80.0  25.34   \n",
       "3                   0             1         0    225.0  150.0   95.0  28.58   \n",
       "4                   0             0         0    285.0  130.0   84.0  23.10   \n",
       "...               ...           ...       ...      ...    ...    ...    ...   \n",
       "4233                0             1         0    313.0  179.0   92.0  25.97   \n",
       "4234                0             0         0    207.0  126.5   80.0  19.71   \n",
       "4235                0             0         0    248.0  131.0   72.0  22.00   \n",
       "4236                0             0         0    210.0  126.5   87.0  19.16   \n",
       "4237                0             0         0    269.0  133.5   83.0  21.47   \n",
       "\n",
       "      heartRate  glucose  \n",
       "0          80.0     77.0  \n",
       "1          95.0     76.0  \n",
       "2          75.0     70.0  \n",
       "3          65.0    103.0  \n",
       "4          85.0     85.0  \n",
       "...         ...      ...  \n",
       "4233       66.0     86.0  \n",
       "4234       65.0     68.0  \n",
       "4235       84.0     86.0  \n",
       "4236       86.0     78.0  \n",
       "4237       80.0     78.0  \n",
       "\n",
       "[4238 rows x 15 columns]"
      ]
     },
     "execution_count": 69,
     "metadata": {},
     "output_type": "execute_result"
    }
   ],
   "source": [
    "x = df_CHD.drop('TenYearCHD', axis=1)\n",
    "x"
   ]
  },
  {
   "cell_type": "code",
   "execution_count": 70,
   "id": "b65c5e78",
   "metadata": {},
   "outputs": [
    {
     "data": {
      "text/plain": [
       "<AxesSubplot:>"
      ]
     },
     "execution_count": 70,
     "metadata": {},
     "output_type": "execute_result"
    },
    {
     "data": {
      "image/png": "[encoded data removed]",
      "text/plain": [
       "<Figure size 432x288 with 1 Axes>"
      ]
     },
     "metadata": {
      "needs_background": "light"
     },
     "output_type": "display_data"
    }
   ],
   "source": [
    "vif_list = []\n",
    "\n",
    "for i in range(x.shape[1]):\n",
    "    vif = variance_inflation_factor(x.values, i)\n",
    "    vif_list.append(round(vif,2))\n",
    "    \n",
    "s1 = pd.Series(vif_list, index=x.columns)\n",
    "s1.sort_values().plot(kind= 'barh')"
   ]
  },
  {
   "cell_type": "code",
   "execution_count": 71,
   "id": "b6a031a5",
   "metadata": {},
   "outputs": [
    {
     "data": {
      "text/plain": [
       "0    3594\n",
       "1     644\n",
       "Name: TenYearCHD, dtype: int64"
      ]
     },
     "execution_count": 71,
     "metadata": {},
     "output_type": "execute_result"
    }
   ],
   "source": [
    "df_CHD['TenYearCHD'].value_counts(normalize=False)"
   ]
  },
  {
   "cell_type": "markdown",
   "id": "303dee3e",
   "metadata": {},
   "source": [
    "### 6.Model Training"
   ]
  },
  {
   "cell_type": "code",
   "execution_count": 72,
   "id": "4c65a34f",
   "metadata": {},
   "outputs": [
    {
     "name": "stdout",
     "output_type": "stream",
     "text": [
      "Requirement already satisfied: imblearn in c:\\users\\shashikiran\\anaconda3\\lib\\site-packages (0.0)\n",
      "Requirement already satisfied: imbalanced-learn in c:\\users\\shashikiran\\anaconda3\\lib\\site-packages (from imblearn) (0.10.1)\n",
      "Requirement already satisfied: numpy>=1.17.3 in c:\\users\\shashikiran\\anaconda3\\lib\\site-packages (from imbalanced-learn->imblearn) (1.21.5)\n",
      "Requirement already satisfied: scipy>=1.3.2 in c:\\users\\shashikiran\\anaconda3\\lib\\site-packages (from imbalanced-learn->imblearn) (1.7.3)\n",
      "Requirement already satisfied: threadpoolctl>=2.0.0 in c:\\users\\shashikiran\\anaconda3\\lib\\site-packages (from imbalanced-learn->imblearn) (2.2.0)\n",
      "Requirement already satisfied: joblib>=1.1.1 in c:\\users\\shashikiran\\anaconda3\\lib\\site-packages (from imbalanced-learn->imblearn) (1.2.0)\n",
      "Requirement already satisfied: scikit-learn>=1.0.2 in c:\\users\\shashikiran\\anaconda3\\lib\\site-packages (from imbalanced-learn->imblearn) (1.0.2)\n",
      "Note: you may need to restart the kernel to use updated packages.\n"
     ]
    }
   ],
   "source": [
    "pip install imblearn"
   ]
  },
  {
   "cell_type": "markdown",
   "id": "d1e7c580",
   "metadata": {},
   "source": [
    "### synthetic Minority Oversampling Technique (SMOTE)"
   ]
  },
  {
   "cell_type": "code",
   "execution_count": 76,
   "id": "185909a6",
   "metadata": {
    "scrolled": true
   },
   "outputs": [
    {
     "data": {
      "image/png": "[encoded data removed]",
      "text/plain": [
       "<Figure size 432x288 with 1 Axes>"
      ]
     },
     "metadata": {
      "needs_background": "light"
     },
     "output_type": "display_data"
    }
   ],
   "source": [
    "X_clean=x\n",
    "from imblearn.over_sampling import SMOTE\n",
    "smote = SMOTE()\n",
    "X_ros, y_ros = smote.fit_resample(X_clean, y)\n",
    "ros_chd_plot=y_ros.value_counts().plot(kind='bar')\n",
    "plt.show()\n",
    "\n",
    "from sklearn.model_selection import train_test_split\n",
    "X_train,X_valid,y_train,y_valid=train_test_split(X_ros,y_ros,test_size=0.3,random_state=0)"
   ]
  },
  {
   "cell_type": "code",
   "execution_count": null,
   "id": "cf541308",
   "metadata": {},
   "outputs": [],
   "source": [
    "df_CHD['TenYearCHD'].value_counts(normalize=False)"
   ]
  },
  {
   "cell_type": "code",
   "execution_count": 75,
   "id": "6c2f2b44",
   "metadata": {},
   "outputs": [],
   "source": [
    "x = df_CHD.drop(['TenYearCHD','education'], axis=1)\n",
    "\n",
    "y = df_CHD['TenYearCHD']"
   ]
  },
  {
   "cell_type": "code",
   "execution_count": 77,
   "id": "469944b8",
   "metadata": {},
   "outputs": [],
   "source": [
    "x_train, x_test,y_train,y_test = train_test_split(x,y,test_size=0.3,random_state=2,stratify=y)"
   ]
  },
  {
   "cell_type": "markdown",
   "id": "405fd05f",
   "metadata": {},
   "source": [
    "#### Model Instantiating"
   ]
  },
  {
   "cell_type": "code",
   "execution_count": 77,
   "id": "025e4c7e",
   "metadata": {},
   "outputs": [
    {
     "data": {
      "text/plain": [
       "LogisticRegression()"
      ]
     },
     "execution_count": 77,
     "metadata": {},
     "output_type": "execute_result"
    }
   ],
   "source": [
    "log_reg = LogisticRegression()\n",
    "log_reg.fit(X_train,y_train)"
   ]
  },
  {
   "cell_type": "markdown",
   "id": "565788dd",
   "metadata": {},
   "source": [
    "### Model Evaluation"
   ]
  },
  {
   "cell_type": "code",
   "execution_count": 78,
   "id": "1143be1c",
   "metadata": {},
   "outputs": [
    {
     "name": "stdout",
     "output_type": "stream",
     "text": [
      "******************Testing Data Evaluation*******************\n",
      "Accuracy Score: 0.636532220676866\n",
      "****************************************\n",
      "Confision Matrix: \n",
      " [[674 396]\n",
      " [388 699]]\n",
      "****************************************\n",
      "Classification Report :\n",
      "               precision    recall  f1-score   support\n",
      "\n",
      "           0       0.63      0.63      0.63      1070\n",
      "           1       0.64      0.64      0.64      1087\n",
      "\n",
      "    accuracy                           0.64      2157\n",
      "   macro avg       0.64      0.64      0.64      2157\n",
      "weighted avg       0.64      0.64      0.64      2157\n",
      "\n",
      "******************Training Data Evaluation******************\n",
      "Accuracy Score: 0.6442059232756907\n",
      "****************************************\n",
      "Confision Matrix: \n",
      " [[1607  917]\n",
      " [ 873 1634]]\n",
      "****************************************\n",
      "Classification Report :\n",
      "               precision    recall  f1-score   support\n",
      "\n",
      "           0       0.65      0.64      0.64      2524\n",
      "           1       0.64      0.65      0.65      2507\n",
      "\n",
      "    accuracy                           0.64      5031\n",
      "   macro avg       0.64      0.64      0.64      5031\n",
      "weighted avg       0.64      0.64      0.64      5031\n",
      "\n"
     ]
    }
   ],
   "source": [
    "def evaluate_model(model, ind_var, act):\n",
    "    pred = model.predict(ind_var)\n",
    "    \n",
    "    acc_score = accuracy_score(act,pred)\n",
    "    print('Accuracy Score:', acc_score)\n",
    "    print('**'*20)\n",
    "    \n",
    "    cnf_matrix = confusion_matrix(act, pred)\n",
    "    print('Confision Matrix: \\n', cnf_matrix)\n",
    "    print('**'*20)\n",
    "    \n",
    "    clf_report = classification_report(act, pred)\n",
    "    print('Classification Report :\\n', clf_report)\n",
    "    \n",
    "    return pred\n",
    "    \n",
    "print('Testing Data Evaluation'.center(60, '*'))   \n",
    "y_pred = evaluate_model(log_reg, X_valid, y_valid)\n",
    "print('Training Data Evaluation'.center(60, '*'))   \n",
    "y_pred = evaluate_model(log_reg, X_train, y_train)"
   ]
  },
  {
   "cell_type": "code",
   "execution_count": 79,
   "id": "b4b59ec3",
   "metadata": {},
   "outputs": [
    {
     "data": {
      "text/plain": [
       "<sklearn.metrics._plot.confusion_matrix.ConfusionMatrixDisplay at 0x13a41d13100>"
      ]
     },
     "execution_count": 79,
     "metadata": {},
     "output_type": "execute_result"
    },
    {
     "data": {
      "text/plain": [
       "<Figure size 432x288 with 0 Axes>"
      ]
     },
     "metadata": {},
     "output_type": "display_data"
    },
    {
     "data": {
      "image/png": "[encoded data removed]",
      "text/plain": [
       "<Figure size 432x288 with 2 Axes>"
      ]
     },
     "metadata": {
      "needs_background": "light"
     },
     "output_type": "display_data"
    }
   ],
   "source": [
    "plt.figure(figsize=(6,4))\n",
    "plot_confusion_matrix(log_reg, X_valid, y_valid)"
   ]
  },
  {
   "cell_type": "markdown",
   "id": "3289456b",
   "metadata": {},
   "source": [
    "### AUC ROC curve"
   ]
  },
  {
   "cell_type": "code",
   "execution_count": 80,
   "id": "2d2dbb95",
   "metadata": {},
   "outputs": [
    {
     "data": {
      "text/plain": [
       "array([[0.59098181, 0.40901819],\n",
       "       [0.59248204, 0.40751796],\n",
       "       [0.36227384, 0.63772616],\n",
       "       ...,\n",
       "       [0.50628941, 0.49371059],\n",
       "       [0.60204725, 0.39795275],\n",
       "       [0.2645621 , 0.7354379 ]])"
      ]
     },
     "execution_count": 80,
     "metadata": {},
     "output_type": "execute_result"
    }
   ],
   "source": [
    "y_pred_proba = log_reg.predict_proba(X_valid)\n",
    "y_pred_proba"
   ]
  },
  {
   "cell_type": "code",
   "execution_count": 81,
   "id": "cbf80a6f",
   "metadata": {},
   "outputs": [
    {
     "data": {
      "text/plain": [
       "array([0.40901819, 0.40751796, 0.63772616, ..., 0.49371059, 0.39795275,\n",
       "       0.7354379 ])"
      ]
     },
     "execution_count": 81,
     "metadata": {},
     "output_type": "execute_result"
    }
   ],
   "source": [
    "y_pred_proba[:,1]"
   ]
  },
  {
   "cell_type": "code",
   "execution_count": 82,
   "id": "123d7051",
   "metadata": {},
   "outputs": [
    {
     "data": {
      "text/plain": [
       "array([1.89976079, 0.89976079, 0.89156364, 0.87642473, 0.86753052,\n",
       "       0.85277718, 0.84697538, 0.8420775 , 0.84165137, 0.84095771,\n",
       "       0.8393447 , 0.83910426, 0.83169021, 0.83026336, 0.82906067,\n",
       "       0.82905025, 0.82424464, 0.82268546, 0.80384697, 0.80370274,\n",
       "       0.80320971, 0.80167797, 0.79863629, 0.79574739, 0.78922738,\n",
       "       0.78903497, 0.78497591, 0.78439122, 0.78431501, 0.78393465,\n",
       "       0.78338927, 0.78171643, 0.7814103 , 0.7797049 , 0.7795703 ,\n",
       "       0.77787137, 0.77363045, 0.77345159, 0.77246941, 0.77185657,\n",
       "       0.77142785, 0.77058828, 0.76989979, 0.76933827, 0.76882832,\n",
       "       0.76804333, 0.76581833, 0.7658083 , 0.76567606, 0.76534251,\n",
       "       0.76380764, 0.76254549, 0.75921492, 0.75851498, 0.75468746,\n",
       "       0.75438658, 0.75296378, 0.7528523 , 0.75014786, 0.75012164,\n",
       "       0.74950335, 0.74948187, 0.74571761, 0.7456725 , 0.74220474,\n",
       "       0.74183282, 0.7415183 , 0.7411966 , 0.7404388 , 0.74029049,\n",
       "       0.73853014, 0.73850806, 0.73849473, 0.73814468, 0.73643366,\n",
       "       0.7354379 , 0.73177216, 0.73143498, 0.73053138, 0.73030242,\n",
       "       0.72963965, 0.72943875, 0.72769559, 0.72700561, 0.72562068,\n",
       "       0.72455284, 0.7190897 , 0.71872715, 0.7183712 , 0.71833871,\n",
       "       0.71658879, 0.71646589, 0.7149121 , 0.71429519, 0.71419043,\n",
       "       0.71417773, 0.71390642, 0.71376816, 0.71277644, 0.71269624,\n",
       "       0.71051809, 0.70897202, 0.70818847, 0.7075377 , 0.703664  ,\n",
       "       0.70363876, 0.70291802, 0.70279577, 0.70182151, 0.70150977,\n",
       "       0.70088096, 0.7008799 , 0.70071263, 0.70048695, 0.7001298 ,\n",
       "       0.69999631, 0.69887695, 0.69795727, 0.69656527, 0.69651655,\n",
       "       0.6956721 , 0.6955394 , 0.69381096, 0.6937412 , 0.69274002,\n",
       "       0.69239872, 0.69135502, 0.69102243, 0.69062907, 0.68943887,\n",
       "       0.68815456, 0.68802568, 0.68750785, 0.68741905, 0.68694955,\n",
       "       0.68626567, 0.68615173, 0.68606645, 0.68330738, 0.68330245,\n",
       "       0.68283776, 0.68268658, 0.68215238, 0.6817309 , 0.67919278,\n",
       "       0.67833312, 0.6769153 , 0.67600038, 0.67554841, 0.67525146,\n",
       "       0.67509665, 0.67350208, 0.67301145, 0.67300362, 0.67285754,\n",
       "       0.67265259, 0.67248023, 0.6723825 , 0.66947598, 0.66906746,\n",
       "       0.66835464, 0.66814964, 0.66770745, 0.66748879, 0.66609572,\n",
       "       0.6648864 , 0.66234724, 0.66160511, 0.66125453, 0.66089762,\n",
       "       0.65955365, 0.65934954, 0.65930932, 0.65914993, 0.65825874,\n",
       "       0.65737833, 0.65666208, 0.65657874, 0.65515886, 0.65491263,\n",
       "       0.65455821, 0.6542767 , 0.65297435, 0.65269531, 0.65097957,\n",
       "       0.65080634, 0.65060892, 0.65013111, 0.64991568, 0.64954095,\n",
       "       0.64912312, 0.64834002, 0.64727554, 0.64585541, 0.64522356,\n",
       "       0.64500165, 0.64467963, 0.64300841, 0.64220505, 0.64155011,\n",
       "       0.64082152, 0.64003076, 0.63906497, 0.63879358, 0.63815464,\n",
       "       0.63809045, 0.63778034, 0.63772616, 0.63640049, 0.63586764,\n",
       "       0.63453507, 0.63431192, 0.63385369, 0.63341359, 0.63225936,\n",
       "       0.63205897, 0.63194642, 0.63187395, 0.62995026, 0.62953574,\n",
       "       0.6273595 , 0.62710194, 0.62706776, 0.62703596, 0.62648934,\n",
       "       0.62643576, 0.62632899, 0.62573737, 0.62553761, 0.6244815 ,\n",
       "       0.62439375, 0.62353997, 0.62230081, 0.62217139, 0.62209498,\n",
       "       0.62192542, 0.62026169, 0.61994757, 0.6194067 , 0.61926573,\n",
       "       0.61802366, 0.61798865, 0.6176419 , 0.61733546, 0.6171973 ,\n",
       "       0.61712197, 0.61669703, 0.61641639, 0.61586443, 0.6154785 ,\n",
       "       0.61489886, 0.61446307, 0.61362563, 0.61346613, 0.61339957,\n",
       "       0.6127651 , 0.61241952, 0.61225305, 0.61148561, 0.61057251,\n",
       "       0.60941783, 0.60924634, 0.60873498, 0.60773224, 0.60742317,\n",
       "       0.60727883, 0.60614303, 0.60595602, 0.6044162 , 0.60418629,\n",
       "       0.60380263, 0.60352334, 0.60281003, 0.60200373, 0.6010434 ,\n",
       "       0.60064083, 0.60061553, 0.60060374, 0.60059808, 0.6003477 ,\n",
       "       0.60018267, 0.59976896, 0.59911007, 0.59901626, 0.59897226,\n",
       "       0.5986185 , 0.597553  , 0.59753644, 0.59684146, 0.59681976,\n",
       "       0.59648731, 0.59611225, 0.59551344, 0.59333878, 0.59291382,\n",
       "       0.59167154, 0.59033509, 0.59020784, 0.58945725, 0.58939248,\n",
       "       0.58933135, 0.58932117, 0.58896066, 0.58834477, 0.58764986,\n",
       "       0.58697904, 0.58647853, 0.58629433, 0.58604129, 0.58590237,\n",
       "       0.58491606, 0.58475389, 0.58451668, 0.58445872, 0.58441081,\n",
       "       0.58408441, 0.58349568, 0.58340864, 0.58331026, 0.58275844,\n",
       "       0.58271409, 0.58264233, 0.58164485, 0.58090565, 0.5808049 ,\n",
       "       0.580684  , 0.58018619, 0.58009807, 0.58001105, 0.57940322,\n",
       "       0.57886351, 0.57870737, 0.57808455, 0.57762083, 0.57744318,\n",
       "       0.57710685, 0.57697811, 0.57645032, 0.57545814, 0.57473347,\n",
       "       0.5733179 , 0.57310474, 0.57298134, 0.5724179 , 0.5699172 ,\n",
       "       0.56940492, 0.56894597, 0.56860794, 0.56802196, 0.56725665,\n",
       "       0.56700561, 0.56626119, 0.56622592, 0.56609996, 0.56492756,\n",
       "       0.56482846, 0.56460452, 0.56420252, 0.56365531, 0.56354881,\n",
       "       0.56320933, 0.56316111, 0.56292305, 0.5624319 , 0.56223552,\n",
       "       0.56153359, 0.56118526, 0.56079773, 0.56076301, 0.56076185,\n",
       "       0.56062046, 0.5603588 , 0.56027231, 0.56019446, 0.55988073,\n",
       "       0.55971939, 0.55955172, 0.55943657, 0.559329  , 0.55915889,\n",
       "       0.55910267, 0.5586594 , 0.5586555 , 0.55796745, 0.55505876,\n",
       "       0.55498124, 0.55476173, 0.55365446, 0.55354895, 0.55309713,\n",
       "       0.5523706 , 0.55188231, 0.5515317 , 0.55027841, 0.54974975,\n",
       "       0.54937136, 0.54864998, 0.5485566 , 0.54770046, 0.54765321,\n",
       "       0.54758937, 0.54653179, 0.54613219, 0.54501446, 0.54476436,\n",
       "       0.54466226, 0.54446165, 0.54443211, 0.54312689, 0.54229755,\n",
       "       0.54228146, 0.54225442, 0.54191932, 0.54186791, 0.54109885,\n",
       "       0.54097229, 0.54095736, 0.54082105, 0.53952401, 0.53945684,\n",
       "       0.53931336, 0.53838446, 0.53815745, 0.53778135, 0.53721751,\n",
       "       0.53718927, 0.53656437, 0.53635016, 0.53615255, 0.53601736,\n",
       "       0.53572887, 0.5357248 , 0.53524028, 0.5350245 , 0.53441088,\n",
       "       0.53427408, 0.53403229, 0.53334012, 0.53293206, 0.53287292,\n",
       "       0.53276443, 0.53255898, 0.53166548, 0.53110874, 0.53065964,\n",
       "       0.53033502, 0.5294062 , 0.5291888 , 0.52873307, 0.52820006,\n",
       "       0.52804583, 0.52798192, 0.52761781, 0.526795  , 0.52678012,\n",
       "       0.5267268 , 0.52624958, 0.52544316, 0.52517509, 0.52493764,\n",
       "       0.52483945, 0.52481682, 0.52473315, 0.52384079, 0.52350682,\n",
       "       0.52301347, 0.5227845 , 0.52249546, 0.52190179, 0.52169409,\n",
       "       0.52157072, 0.52065385, 0.5199546 , 0.51956965, 0.51882725,\n",
       "       0.51866761, 0.51758369, 0.51745083, 0.51725848, 0.5169324 ,\n",
       "       0.5161012 , 0.51524091, 0.5147942 , 0.51450462, 0.51389007,\n",
       "       0.51318668, 0.51269918, 0.5121841 , 0.51035967, 0.51002307,\n",
       "       0.50997601, 0.50967709, 0.50938271, 0.5091289 , 0.50904934,\n",
       "       0.50879441, 0.50756584, 0.50724905, 0.50721759, 0.50686672,\n",
       "       0.50597938, 0.50580152, 0.5050293 , 0.5038713 , 0.50378119,\n",
       "       0.5036488 , 0.50348785, 0.50283552, 0.50272295, 0.50261988,\n",
       "       0.50214259, 0.50186828, 0.50171709, 0.50152409, 0.50147979,\n",
       "       0.50140967, 0.50104759, 0.50102596, 0.50091925, 0.50081652,\n",
       "       0.50050045, 0.50014631, 0.49989997, 0.49981324, 0.49817285,\n",
       "       0.4977586 , 0.49764375, 0.4975238 , 0.49727864, 0.49726022,\n",
       "       0.49725589, 0.49672086, 0.49592815, 0.49566598, 0.49541622,\n",
       "       0.49535206, 0.49465989, 0.49428208, 0.49404559, 0.4940451 ,\n",
       "       0.49403796, 0.49336468, 0.49309974, 0.49276097, 0.49207214,\n",
       "       0.49202317, 0.49199027, 0.49076645, 0.49026303, 0.49012748,\n",
       "       0.49001099, 0.49000887, 0.48997625, 0.48966243, 0.48944695,\n",
       "       0.48938302, 0.48926296, 0.48919849, 0.4886823 , 0.48863661,\n",
       "       0.48835836, 0.48825485, 0.48791186, 0.48780316, 0.48752635,\n",
       "       0.48600583, 0.48579373, 0.48567484, 0.48504908, 0.48480201,\n",
       "       0.48467136, 0.48466767, 0.48438574, 0.48282161, 0.48191888,\n",
       "       0.48157661, 0.48099485, 0.47979637, 0.47976029, 0.4797182 ,\n",
       "       0.4792109 , 0.47889487, 0.47866851, 0.47777316, 0.47743743,\n",
       "       0.47710348, 0.47682338, 0.47553313, 0.47526634, 0.47486462,\n",
       "       0.47475657, 0.47470953, 0.47418456, 0.4738307 , 0.47314764,\n",
       "       0.47297466, 0.47270844, 0.47270098, 0.47072037, 0.47054775,\n",
       "       0.46982198, 0.46978056, 0.46937915, 0.46914449, 0.46911752,\n",
       "       0.46887039, 0.46871663, 0.46839794, 0.46634543, 0.46631879,\n",
       "       0.46563257, 0.46551336, 0.46531448, 0.46524708, 0.46495111,\n",
       "       0.46443861, 0.46430765, 0.46380662, 0.46177515, 0.46106138,\n",
       "       0.45994286, 0.45950749, 0.45940443, 0.45936076, 0.45840647,\n",
       "       0.45791457, 0.45705399, 0.45698767, 0.45649091, 0.45615075,\n",
       "       0.45573173, 0.45508152, 0.45456564, 0.45450891, 0.45384683,\n",
       "       0.45377961, 0.45374917, 0.45369591, 0.45366484, 0.45356126,\n",
       "       0.45351237, 0.45283638, 0.45231816, 0.45111718, 0.45072391,\n",
       "       0.45060295, 0.45014587, 0.44955972, 0.44884999, 0.44868831,\n",
       "       0.44707212, 0.44614451, 0.4457469 , 0.44570656, 0.44494984,\n",
       "       0.4449212 , 0.44386549, 0.44381713, 0.44347276, 0.4434263 ,\n",
       "       0.44340101, 0.44330488, 0.44218988, 0.44112249, 0.44092502,\n",
       "       0.43876026, 0.43850724, 0.43764795, 0.43722242, 0.43552753,\n",
       "       0.43464252, 0.43439767, 0.43379381, 0.43371403, 0.43370543,\n",
       "       0.43354703, 0.43221443, 0.43213439, 0.43210799, 0.4320219 ,\n",
       "       0.43117166, 0.43083265, 0.4306017 , 0.43025093, 0.43001898,\n",
       "       0.42993943, 0.42954726, 0.429506  , 0.42932482, 0.42927976,\n",
       "       0.42926084, 0.42922159, 0.42917497, 0.42903885, 0.42889989,\n",
       "       0.42831294, 0.42742476, 0.42717432, 0.42692331, 0.42404647,\n",
       "       0.42403575, 0.42396747, 0.42385134, 0.42362709, 0.42292898,\n",
       "       0.42234767, 0.42214003, 0.42127684, 0.4208021 , 0.41995614,\n",
       "       0.4197987 , 0.41965237, 0.41850225, 0.41834937, 0.41815622,\n",
       "       0.41740408, 0.41712372, 0.41685262, 0.4164878 , 0.41616795,\n",
       "       0.41572012, 0.41394783, 0.41339777, 0.41214034, 0.41195022,\n",
       "       0.41147168, 0.41107896, 0.40917843, 0.40903344, 0.40901819,\n",
       "       0.40888011, 0.40871671, 0.40858899, 0.4081443 , 0.4080818 ,\n",
       "       0.4076814 , 0.40653127, 0.40529333, 0.40494912, 0.40471142,\n",
       "       0.40443825, 0.40378089, 0.4031253 , 0.40256174, 0.40251306,\n",
       "       0.40015115, 0.39893917, 0.39875092, 0.39794371, 0.39725531,\n",
       "       0.39700589, 0.39644599, 0.39638938, 0.39605525, 0.39556224,\n",
       "       0.39457967, 0.39437311, 0.39335318, 0.39324057, 0.39309886,\n",
       "       0.39159995, 0.39140056, 0.39042758, 0.38978265, 0.38930594,\n",
       "       0.38895525, 0.38867839, 0.38765415, 0.38706528, 0.38641209,\n",
       "       0.38612282, 0.38569587, 0.3856244 , 0.38442315, 0.38432912,\n",
       "       0.3838235 , 0.38375504, 0.38333291, 0.38189902, 0.38132681,\n",
       "       0.38097748, 0.38014643, 0.38014357, 0.3800463 , 0.37991981,\n",
       "       0.37957332, 0.37895135, 0.37752526, 0.3774951 , 0.37613308,\n",
       "       0.37532501, 0.37516793, 0.3748381 , 0.37278805, 0.37252569,\n",
       "       0.3724448 , 0.37169875, 0.37048332, 0.37000406, 0.36840263,\n",
       "       0.36824954, 0.36762567, 0.36725696, 0.36643725, 0.36577955,\n",
       "       0.36413011, 0.36386875, 0.36380621, 0.36300644, 0.36285428,\n",
       "       0.36241807, 0.36240749, 0.36183663, 0.36162953, 0.36148112,\n",
       "       0.36127021, 0.36087899, 0.35929584, 0.35883708, 0.35875808,\n",
       "       0.35840745, 0.35815813, 0.35808529, 0.35739617, 0.35663775,\n",
       "       0.35471478, 0.35383695, 0.35319367, 0.35312671, 0.35161192,\n",
       "       0.35052252, 0.35041627, 0.34975022, 0.3493968 , 0.34923501,\n",
       "       0.3487248 , 0.34810145, 0.34768937, 0.34749209, 0.34711285,\n",
       "       0.34647717, 0.34562951, 0.34462683, 0.34314953, 0.34310993,\n",
       "       0.3417946 , 0.34161573, 0.34079489, 0.34030258, 0.34005809,\n",
       "       0.33993556, 0.33950863, 0.33945967, 0.33942262, 0.33901417,\n",
       "       0.3370262 , 0.3370146 , 0.33615742, 0.33614974, 0.33448045,\n",
       "       0.33387121, 0.33231397, 0.33180347, 0.33179413, 0.3315462 ,\n",
       "       0.33152824, 0.33101463, 0.32968127, 0.32936905, 0.32911442,\n",
       "       0.32905689, 0.32839192, 0.32815203, 0.32749582, 0.32684248,\n",
       "       0.32236021, 0.3212628 , 0.32103377, 0.32093931, 0.3172504 ,\n",
       "       0.31631078, 0.31629593, 0.31622055, 0.31443922, 0.3143765 ,\n",
       "       0.3142701 , 0.31426693, 0.31176319, 0.31081079, 0.30958799,\n",
       "       0.30953883, 0.30639765, 0.30603811, 0.30583843, 0.30579133,\n",
       "       0.30428849, 0.30387721, 0.30320603, 0.303182  , 0.30258254,\n",
       "       0.30221172, 0.29983426, 0.29843467, 0.29558468, 0.29511455,\n",
       "       0.29094592, 0.29033363, 0.28953502, 0.28839465, 0.28718244,\n",
       "       0.28629035, 0.28302872, 0.28183279, 0.28097047, 0.27979579,\n",
       "       0.27831928, 0.27781965, 0.27644558, 0.27605633, 0.27528043,\n",
       "       0.27504145, 0.27367143, 0.27333958, 0.27119149, 0.27114585,\n",
       "       0.27098993, 0.27064668, 0.26970832, 0.26962656, 0.26562493,\n",
       "       0.26499698, 0.26296413, 0.26139532, 0.26045791, 0.25974198,\n",
       "       0.25580883, 0.25523249, 0.24273763, 0.24250531, 0.24164386,\n",
       "       0.24102683, 0.24088203, 0.23946306, 0.23887529, 0.23764414,\n",
       "       0.22993667, 0.22970526, 0.22857132, 0.22814704, 0.22782633,\n",
       "       0.22504173, 0.22345221, 0.22252672, 0.21803673, 0.2179433 ,\n",
       "       0.21564391, 0.21510572, 0.20705749, 0.20529345, 0.20298439,\n",
       "       0.19999547, 0.19130775, 0.18823923, 0.18193087, 0.17989835,\n",
       "       0.1774412 , 0.1774337 , 0.12528067, 0.12175252, 0.12034938,\n",
       "       0.11921543, 0.09148457])"
      ]
     },
     "execution_count": 82,
     "metadata": {},
     "output_type": "execute_result"
    }
   ],
   "source": [
    "fpr, tpr , thresh = roc_curve(y_valid,y_pred_proba[:,1] )\n",
    "\n",
    "thresh"
   ]
  },
  {
   "cell_type": "code",
   "execution_count": 83,
   "id": "7ec3b76a",
   "metadata": {},
   "outputs": [
    {
     "data": {
      "text/plain": [
       "Text(0, 0.5, 'True Positive Rate')"
      ]
     },
     "execution_count": 83,
     "metadata": {},
     "output_type": "execute_result"
    },
    {
     "data": {
      "image/png": "[encoded data removed]",
      "text/plain": [
       "<Figure size 432x288 with 1 Axes>"
      ]
     },
     "metadata": {
      "needs_background": "light"
     },
     "output_type": "display_data"
    }
   ],
   "source": [
    "plt.title('ROC Curve')\n",
    "plt.plot(fpr,tpr)\n",
    "plt.xlabel('False Positive Rate')\n",
    "plt.ylabel('True Positive Rate')\n"
   ]
  },
  {
   "cell_type": "code",
   "execution_count": 84,
   "id": "fc37726e",
   "metadata": {},
   "outputs": [
    {
     "data": {
      "text/plain": [
       "0.702730657128855"
      ]
     },
     "execution_count": 84,
     "metadata": {},
     "output_type": "execute_result"
    }
   ],
   "source": [
    "auc_score = roc_auc_score(y_valid, y_pred_proba[:,1])\n",
    "auc_score"
   ]
  },
  {
   "cell_type": "code",
   "execution_count": 85,
   "id": "8417cc43",
   "metadata": {},
   "outputs": [],
   "source": [
    "value_pred = []\n",
    "\n",
    "for i in y_pred_proba[:,1]:\n",
    "    if i >= 0.5:\n",
    "        value_pred.append(1)\n",
    "        \n",
    "    else:\n",
    "        value_pred.append(0)"
   ]
  },
  {
   "cell_type": "code",
   "execution_count": 86,
   "id": "0504f196",
   "metadata": {},
   "outputs": [
    {
     "data": {
      "text/plain": [
       "array([[674, 396],\n",
       "       [388, 699]], dtype=int64)"
      ]
     },
     "execution_count": 86,
     "metadata": {},
     "output_type": "execute_result"
    }
   ],
   "source": [
    "arr = np.array(value_pred)\n",
    "\n",
    "confusion_matrix(y_valid, arr)"
   ]
  },
  {
   "cell_type": "code",
   "execution_count": 87,
   "id": "e16689f1",
   "metadata": {
    "scrolled": false
   },
   "outputs": [
    {
     "data": {
      "text/html": [
       "<div>\n",
       "<style scoped>\n",
       "    .dataframe tbody tr th:only-of-type {\n",
       "        vertical-align: middle;\n",
       "    }\n",
       "\n",
       "    .dataframe tbody tr th {\n",
       "        vertical-align: top;\n",
       "    }\n",
       "\n",
       "    .dataframe thead th {\n",
       "        text-align: right;\n",
       "    }\n",
       "</style>\n",
       "<table border=\"1\" class=\"dataframe\">\n",
       "  <thead>\n",
       "    <tr style=\"text-align: right;\">\n",
       "      <th></th>\n",
       "      <th>3822</th>\n",
       "    </tr>\n",
       "  </thead>\n",
       "  <tbody>\n",
       "    <tr>\n",
       "      <th>male</th>\n",
       "      <td>0.00</td>\n",
       "    </tr>\n",
       "    <tr>\n",
       "      <th>age</th>\n",
       "      <td>38.00</td>\n",
       "    </tr>\n",
       "    <tr>\n",
       "      <th>currentSmoker</th>\n",
       "      <td>0.00</td>\n",
       "    </tr>\n",
       "    <tr>\n",
       "      <th>cigsPerDay</th>\n",
       "      <td>0.00</td>\n",
       "    </tr>\n",
       "    <tr>\n",
       "      <th>BPMeds</th>\n",
       "      <td>0.00</td>\n",
       "    </tr>\n",
       "    <tr>\n",
       "      <th>prevalentStroke</th>\n",
       "      <td>0.00</td>\n",
       "    </tr>\n",
       "    <tr>\n",
       "      <th>prevalentHyp</th>\n",
       "      <td>0.00</td>\n",
       "    </tr>\n",
       "    <tr>\n",
       "      <th>diabetes</th>\n",
       "      <td>0.00</td>\n",
       "    </tr>\n",
       "    <tr>\n",
       "      <th>totChol</th>\n",
       "      <td>185.00</td>\n",
       "    </tr>\n",
       "    <tr>\n",
       "      <th>sysBP</th>\n",
       "      <td>100.00</td>\n",
       "    </tr>\n",
       "    <tr>\n",
       "      <th>diaBP</th>\n",
       "      <td>72.00</td>\n",
       "    </tr>\n",
       "    <tr>\n",
       "      <th>BMI</th>\n",
       "      <td>22.15</td>\n",
       "    </tr>\n",
       "    <tr>\n",
       "      <th>heartRate</th>\n",
       "      <td>85.00</td>\n",
       "    </tr>\n",
       "    <tr>\n",
       "      <th>glucose</th>\n",
       "      <td>83.00</td>\n",
       "    </tr>\n",
       "  </tbody>\n",
       "</table>\n",
       "</div>"
      ],
      "text/plain": [
       "                   3822\n",
       "male               0.00\n",
       "age               38.00\n",
       "currentSmoker      0.00\n",
       "cigsPerDay         0.00\n",
       "BPMeds             0.00\n",
       "prevalentStroke    0.00\n",
       "prevalentHyp       0.00\n",
       "diabetes           0.00\n",
       "totChol          185.00\n",
       "sysBP            100.00\n",
       "diaBP             72.00\n",
       "BMI               22.15\n",
       "heartRate         85.00\n",
       "glucose           83.00"
      ]
     },
     "execution_count": 87,
     "metadata": {},
     "output_type": "execute_result"
    }
   ],
   "source": [
    "x.sample(1).T"
   ]
  },
  {
   "cell_type": "code",
   "execution_count": 88,
   "id": "25d22afe",
   "metadata": {},
   "outputs": [],
   "source": [
    "male=1.00\n",
    "age=59.00\n",
    "currentSmoker=1.00\n",
    "cigsPerDay=43.00\n",
    "BPMeds=0.00\n",
    "prevalentStroke=0.00\n",
    "prevalentHyp=0.00\n",
    "diabetes=0.00\n",
    "totChol=207.00\n",
    "sysBP=132.50\n",
    "diaBP=66.00\n",
    "BMI=26.84\n",
    "heartRate=65.00\n",
    "glucose=76.00"
   ]
  },
  {
   "cell_type": "code",
   "execution_count": 89,
   "id": "ddd80cd7",
   "metadata": {},
   "outputs": [],
   "source": [
    "test_array=np.array([male,age,currentSmoker,cigsPerDay,BPMeds,prevalentStroke,prevalentHyp,diabetes,totChol,\n",
    "                     sysBP,diaBP,BMI,heartRate,glucose],ndmin=2)"
   ]
  },
  {
   "cell_type": "code",
   "execution_count": 90,
   "id": "11f854fc",
   "metadata": {},
   "outputs": [
    {
     "data": {
      "text/plain": [
       "1"
      ]
     },
     "execution_count": 90,
     "metadata": {},
     "output_type": "execute_result"
    }
   ],
   "source": [
    "log_reg.predict(test_array)[0]"
   ]
  },
  {
   "cell_type": "code",
   "execution_count": 91,
   "id": "145af341",
   "metadata": {},
   "outputs": [
    {
     "data": {
      "text/plain": [
       "{'male': {'yes': 0, 'no': 1},\n",
       " 'currentSmoker': {'yes': 1, 'no': 0},\n",
       " 'BPMeds': {'yes': 1, 'no': 0},\n",
       " 'prevalentStroke': {'yes': 1, 'no': 0},\n",
       " 'prevalentHyp': {'yes': 1, 'no': 0},\n",
       " 'diabetes': {'yes': 1, 'no': 0},\n",
       " 'columns': ['male',\n",
       "  'age',\n",
       "  'currentSmoker',\n",
       "  'cigsPerDay',\n",
       "  'BPMeds',\n",
       "  'prevalentStroke',\n",
       "  'prevalentHyp',\n",
       "  'diabetes',\n",
       "  'totChol',\n",
       "  'sysBP',\n",
       "  'diaBP',\n",
       "  'BMI',\n",
       "  'heartRate',\n",
       "  'glucose']}"
      ]
     },
     "execution_count": 91,
     "metadata": {},
     "output_type": "execute_result"
    }
   ],
   "source": [
    "project_data = {'male': {'yes':0, 'no':1},\n",
    "               'currentSmoker': {'yes':1,'no':0},\n",
    "                'BPMeds':{'yes':1,'no':0},\n",
    "                'prevalentStroke':{'yes':1,'no':0},\n",
    "                'prevalentHyp':{'yes':1,'no':0},\n",
    "                'diabetes':{'yes':1,'no':0},\n",
    "                'columns': list(x.columns)}\n",
    "project_data"
   ]
  },
  {
   "cell_type": "code",
   "execution_count": 92,
   "id": "b151fcb0",
   "metadata": {},
   "outputs": [
    {
     "data": {
      "text/plain": [
       "array([  0.  ,  59.  ,   1.  ,  43.  ,   0.  ,   0.  ,   0.  ,   0.  ,\n",
       "       207.  , 132.5 ,  66.  ,  26.84,  65.  ,  76.  ])"
      ]
     },
     "execution_count": 92,
     "metadata": {},
     "output_type": "execute_result"
    }
   ],
   "source": [
    "test_array = np.zeros(x.shape[1])\n",
    "test_array[0] = project_data['male']['yes']\n",
    "test_array[1] = age\n",
    "test_array[2] = project_data['currentSmoker']['yes']\n",
    "test_array[3] = cigsPerDay\n",
    "test_array[4] = project_data['BPMeds']['no']\n",
    "test_array[5] = project_data['prevalentStroke']['no']\n",
    "test_array[6] = project_data['prevalentHyp']['no']\n",
    "test_array[7] = project_data['diabetes']['no']\n",
    "test_array[8] = totChol\n",
    "test_array[9] = sysBP\n",
    "test_array[10] = diaBP\n",
    "test_array[11] = BMI\n",
    "test_array[12] = heartRate\n",
    "test_array[13] = glucose\n",
    "\n",
    "test_array"
   ]
  },
  {
   "cell_type": "code",
   "execution_count": 93,
   "id": "56d7de68",
   "metadata": {},
   "outputs": [
    {
     "name": "stdout",
     "output_type": "stream",
     "text": [
      "risk of chronic heart disease in 10 years : . [1]\n"
     ]
    }
   ],
   "source": [
    "result = log_reg.predict([test_array])\n",
    "print(f'risk of chronic heart disease in 10 years : .', result)"
   ]
  },
  {
   "cell_type": "code",
   "execution_count": 94,
   "id": "c9a992d4",
   "metadata": {},
   "outputs": [],
   "source": [
    "import pickle"
   ]
  },
  {
   "cell_type": "code",
   "execution_count": 95,
   "id": "ab4fade1",
   "metadata": {},
   "outputs": [],
   "source": [
    "with open('Log_model.pkl', 'wb') as f:\n",
    "    pickle.dump(log_reg, f)"
   ]
  },
  {
   "cell_type": "code",
   "execution_count": 2,
   "id": "addcbd93",
   "metadata": {},
   "outputs": [],
   "source": [
    "import json"
   ]
  },
  {
   "cell_type": "code",
   "execution_count": 96,
   "id": "283923e5",
   "metadata": {},
   "outputs": [],
   "source": [
    "with open('project_data.json', 'w') as f:\n",
    "    json.dump(project_data, f)"
   ]
  },
  {
   "cell_type": "code",
   "execution_count": null,
   "id": "9d639ca8",
   "metadata": {},
   "outputs": [],
   "source": []
  }
 ],
 "metadata": {
  "kernelspec": {
   "display_name": "Python 3 (ipykernel)",
   "language": "python",
   "name": "python3"
  },
  "language_info": {
   "codemirror_mode": {
    "name": "ipython",
    "version": 3
   },
   "file_extension": ".py",
   "mimetype": "text/x-python",
   "name": "python",
   "nbconvert_exporter": "python",
   "pygments_lexer": "ipython3",
   "version": "3.9.12"
  }
 },
 "nbformat": 4,
 "nbformat_minor": 5
}
